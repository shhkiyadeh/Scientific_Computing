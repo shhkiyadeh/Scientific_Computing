{
  "cells": [
    {
      "cell_type": "markdown",
      "metadata": {
        "id": "f1IPBtbUbry_"
      },
      "source": [
        "# **Assignment 4 (Math 537, Fall 2022)**\n",
        "Sanaz Hami Hassan Kiyadeh, shkiyadeh@crimson.ua.edu"
      ]
    },
    {
      "cell_type": "markdown",
      "metadata": {
        "id": "hysyuTLPk22W"
      },
      "source": [
        "# Problem 2\n",
        "\n",
        "Consider finding roots of the function\n",
        "\\begin{equation*} \n",
        "\tf(x) = \\frac{1.5x}{(1+x^2)^2} - 0.65 \\arctan \\left(\\frac{1}{x}\\right) +\\frac{0.65 x}{1 + x^2} = 0.\n",
        "\\end{equation*}"
      ]
    },
    {
      "cell_type": "markdown",
      "metadata": {
        "id": "vVDJR9tkb78N"
      },
      "source": [
        "## Part b\n",
        "\n",
        "The *fixed point iteration algorithm* generates a sequence of converging to a fixed point of a given function $g$ by\n",
        "\\begin{equation*}\n",
        "    x_{k+1} = g(x_k)\n",
        "\\end{equation*}\n",
        "until the convergence criterion\n",
        "\\begin{equation*}\n",
        "    |g(x_k) - x_{k+1}| < \\epsilon\n",
        "\\end{equation*}\n",
        "is met for given stopping tolerance $\\epsilon > 0$.\n",
        "It can be shown that fixed point iteration converges linearly to the fixed point $x^*$ if $|g'(x^*)| < 1$ if $x_0$ is sufficiently close to $x^*$.\n",
        "\n",
        "Write a Python function for performing fixed point iteration for a given function $g$, initial iterate $x_0$, maximum number of iterations, and stopping tolerance $\\epsilon>0$.\n",
        "\n"
      ]
    },
    {
      "cell_type": "code",
      "source": [
        "# Fixed Point Iteration.\n",
        "\n",
        "import numpy as np\n",
        "\n",
        "def fixedpt(g,x0,tol,maxiter):\n",
        "  err=[]\n",
        "  #err[0] = np.abs(g(x0)-x0)\n",
        "  e=1\n",
        "  itr = 0\n",
        "  xp = [x0]\n",
        "  while(e > tol and itr < maxiter):\n",
        "    x = g(x0)      # fixed point equation\n",
        "    e = np.abs(x-x0) # error at the current step\n",
        "    err.append(e)\n",
        "    #print(e)\n",
        "    x0 = x\n",
        "    xp.append(x0)  # save the solution of the current step\n",
        "    itr = itr + 1\n",
        "  return err,itr,x"
      ],
      "metadata": {
        "id": "r8MfcAJccJWi"
      },
      "execution_count": 6,
      "outputs": []
    },
    {
      "cell_type": "code",
      "source": [
        "#test our function\n",
        "\n",
        "def g(x):\n",
        "  return np.sin(x)-x\n",
        "\n",
        "tol=1e-5\n",
        "maxiter=100\n",
        "\n",
        "x0=1\n",
        "\n",
        "fixedpt(g,x0,tol,maxiter)\n"
      ],
      "metadata": {
        "colab": {
          "base_uri": "https://localhost:8080/",
          "height": 0
        },
        "id": "AjQzJoO6om2A",
        "outputId": "f8c395b7-9edf-43f4-f8dd-717950001e0a"
      },
      "execution_count": 7,
      "outputs": [
        {
          "output_type": "execute_result",
          "data": {
            "text/plain": [
              "([1.1585290151921035,\n",
              "  0.15919219194808037,\n",
              "  0.0006631768045881118,\n",
              "  4.861123201020667e-11],\n",
              " 4,\n",
              " 0.0)"
            ]
          },
          "metadata": {},
          "execution_count": 7
        }
      ]
    },
    {
      "cell_type": "markdown",
      "metadata": {
        "id": "f9Vz3MpIDV2S"
      },
      "source": [
        "## Part c\n",
        "\n",
        "Use the four root finding algorithms we've seen so far, i.e, Newton's Method, the secant method, bisection, and fixed point iteration\n",
        "to find a root of $f(x)$.\n",
        "\n",
        "Edit the given Jupyter notebook to call each of the four root finding functions\twhere indicated, using the following parameters:\n",
        "\n",
        "1.   **Newton-Raphson:** stopping tolerance $\\epsilon = 10^{-12}$, maximum number of iterations $n_{\\max} = 100$, and initial iterate $x_0 = 0.05$.\n",
        "2.   **Secant:**  $\\epsilon  = 10^{-12}$, $n_{\\max} = 100$, and initial iterates $x_0 =0.05$, $x_1 = 0.1$.\n",
        "3. **Fixed Point:** $\\epsilon = 10^{-12}$, $n_{\\max} = 100$, $x_0 = 0.05$.\n",
        "4. **Bisection:** $\\epsilon = 10^{-12}$, $n_{\\max} = 100$, with initial interval $[a,b] = [0.05,2]$.\n",
        "\n",
        "Run your notebook (with given initial iterates and stopping tolerances)\n",
        "to find roots of $f(x)$. You should call each function and generate a sequence of approximate roots and corresponding errors, either measured as change in $x$ (Newton-Raphson, secant, fixed point iteration), or as interval width (bisection).\n",
        "\t\n",
        "You can use the Newton-Raphson, secant, and bisection functions from earlier in the term. You may need to modify these to obtain the sequence of approximate roots and the desired error measures.\n",
        "\n",
        "Plot the logarithm of these error measures as a function of iteration number.\n",
        "\n",
        "Use the script's output to answer the following questions:\n",
        "*\tWhat is the root found by each algorithm? (Report to 15 decimal places).\n",
        "* Which algorithm converged in the fewest iterations? Estimate the *convergence rate* of each algorithm using the function and relative error values given by the script output.\n"
      ]
    },
    {
      "cell_type": "code",
      "execution_count": 8,
      "metadata": {
        "id": "6u1ah0ZJ7vkW"
      },
      "outputs": [],
      "source": [
        "# Newton-Raphson Method.\n",
        "\n",
        "def Newton(f,df, x0, nmax, tol):\n",
        "  \n",
        "  # Initialization.  \n",
        "  x = np.zeros(nmax)\n",
        "  x[0] = x0 # initialize iterates.\n",
        "  iter = 0 # iteration counter\n",
        "  fx = 1  # initial function value is greater than tol.\n",
        "  err=[]\n",
        "  # Update iterate until a root is found or max # of iterations are performed.\n",
        "  while (iter < nmax and abs(fx) > tol):\n",
        "    # Calculate function value and derivative.\n",
        "    fx, dfx = f(x[iter]),df(x[iter])\n",
        "    err.append(abs(fx))\n",
        "    # Update x.\n",
        "    x[iter + 1] = x[iter] - fx/dfx\n",
        "\n",
        "    # Update iter.\n",
        "    iter += 1\n",
        "  \n",
        "\n",
        "  # return iterates x at termination.\n",
        "  return(x[:iter], iter,err)\n",
        "# end def.\n"
      ]
    },
    {
      "cell_type": "code",
      "source": [
        "# Secant Method\n",
        "\n",
        "from numpy import abs\n",
        "def Secant(f, x0, x1, nmax, tol):\n",
        "  x=[]\n",
        "  x.append(x0)\n",
        "  x.append(x1)\n",
        "  n=1 # iteration counter\n",
        "  err=[]\n",
        "  err.append(abs(f(x[0])))\n",
        "  err.append(abs(f(x[1])))\n",
        "  while (n<nmax and err[n]>tol):\n",
        "    x_new=x[n]-f(x[n])*((x[n]-x[n-1])/(f(x[n])-f(x[n-1])))\n",
        "    x.append(x_new)\n",
        "    n+=1\n",
        "    err.append(abs(f(x_new)))\n",
        "  return err,n,x\n"
      ],
      "metadata": {
        "id": "jsfgssZsd2wf"
      },
      "execution_count": 9,
      "outputs": []
    },
    {
      "cell_type": "code",
      "execution_count": 10,
      "metadata": {
        "id": "53fjxV9sTaNS"
      },
      "outputs": [],
      "source": [
        "# Bisection Method.\n",
        "\n",
        "def bisect(f, a, b, nmax,tol):\n",
        "    err=[]\n",
        "    e=1\n",
        "    iter=0\n",
        "    while (e>tol and iter<nmax): # Repeat until maximum number of iterations is performed.\n",
        "        # Update midpoint of current interval [a,b].\n",
        "        m = 0.5*(a+b)\n",
        "        # Use if/else to update interval containing the root.\n",
        "        if f(a)*f(m) < 0: # A root is in (a,m)\n",
        "            # Replace b with m. New interval is [a,m]\n",
        "            b = m\n",
        "        elif f(m) == 0: # m is a root.\n",
        "            a = m; b = m # Set interval to [m,m].\n",
        "        else: # A root is in [m,b]\n",
        "            a = m \n",
        "        iter+=1\n",
        "        e=abs(f(m))\n",
        "        #print(e)\n",
        "        err.append(e)\n",
        "\n",
        "    # Return final value of m as the root.\n",
        "    return err,m,iter\n"
      ]
    },
    {
      "cell_type": "code",
      "source": [
        "#setting our parameters\n",
        "\n",
        "x0=0.05\n",
        "x1=0.1 #secant method\n",
        "b=2 #bisection method\n",
        "tol=1e-12\n",
        "nmax=100\n",
        "\n"
      ],
      "metadata": {
        "id": "78OAV91V2NZU"
      },
      "execution_count": 11,
      "outputs": []
    },
    {
      "cell_type": "code",
      "source": [
        "#defining f and its derivative\n",
        "def f(x):\n",
        "  return (1.5*x) / ((1+x**2)**2) -0.65 * np.arctan(1/x) +(0.65*x)/(1+x**2)\n",
        "def df(x):\n",
        "  return (2.8 - 3.2*x**2)/((1 + x**2)**3)"
      ],
      "metadata": {
        "id": "79xusv_p6BbT"
      },
      "execution_count": 12,
      "outputs": []
    },
    {
      "cell_type": "code",
      "source": [
        "f(2)"
      ],
      "metadata": {
        "colab": {
          "base_uri": "https://localhost:8080/",
          "height": 0
        },
        "id": "BYN95FT5HRx2",
        "outputId": "e355b212-d52c-497b-e5f3-b0e48ff45ddf"
      },
      "execution_count": 13,
      "outputs": [
        {
          "output_type": "execute_result",
          "data": {
            "text/plain": [
              "0.07862905414947602"
            ]
          },
          "metadata": {},
          "execution_count": 13
        }
      ]
    },
    {
      "cell_type": "code",
      "source": [
        "x_N,iter_N,err_N=Newton(f,df,x0,nmax,tol)"
      ],
      "metadata": {
        "id": "OE1LXFSD6tP_"
      },
      "execution_count": 14,
      "outputs": []
    },
    {
      "cell_type": "code",
      "source": [
        "import matplotlib.pyplot as plt\n",
        "plt.xscale(\"log\")\n",
        "plt.yscale(\"log\")\n",
        "plt.plot(range(iter_N),err_N, color=\"r\", label=\"Newton method\")\n",
        "\n",
        "plt.xlabel(\"iteration\")\n",
        "plt.ylabel(\"error\")\n",
        "plt.title(\"Newton method\")\n",
        "plt.legend()\n",
        "plt.show()"
      ],
      "metadata": {
        "colab": {
          "base_uri": "https://localhost:8080/",
          "height": 299
        },
        "id": "lT6olC4LYfmS",
        "outputId": "27eaa3fd-4468-41cf-8347-e98e788ce776"
      },
      "execution_count": 15,
      "outputs": [
        {
          "output_type": "display_data",
          "data": {
            "text/plain": [
              "<Figure size 432x288 with 1 Axes>"
            ],
            "image/png": "[encoded data removed]"
          },
          "metadata": {
            "needs_background": "light"
          }
        }
      ]
    },
    {
      "cell_type": "code",
      "source": [
        "err_S,iter_S,x_S=Secant(f,x0,x1,nmax,tol)"
      ],
      "metadata": {
        "id": "vFKBQBfv_jSQ"
      },
      "execution_count": 16,
      "outputs": []
    },
    {
      "cell_type": "code",
      "source": [
        "import matplotlib.pyplot as plt\n",
        "plt.xscale(\"log\")\n",
        "plt.yscale(\"log\")\n",
        "plt.plot(range(iter_S+1),err_S, color=\"r\", label=\"Secant method\")\n",
        "\n",
        "plt.xlabel(\"iteration\")\n",
        "plt.ylabel(\"error\")\n",
        "plt.title(\"Secant method\")\n",
        "plt.legend()\n",
        "plt.show()"
      ],
      "metadata": {
        "colab": {
          "base_uri": "https://localhost:8080/",
          "height": 299
        },
        "id": "TT9egG99ZIDn",
        "outputId": "851f4eed-8be5-435f-aedf-ea5ae455511b"
      },
      "execution_count": 17,
      "outputs": [
        {
          "output_type": "display_data",
          "data": {
            "text/plain": [
              "<Figure size 432x288 with 1 Axes>"
            ],
            "image/png": "[encoded data removed]"
          },
          "metadata": {
            "needs_background": "light"
          }
        }
      ]
    },
    {
      "cell_type": "code",
      "source": [
        "def f_fix(x):\n",
        "  return (13/30)*(1+x**2)*((1+x**2)*np.arctan(1/x)-x)\n"
      ],
      "metadata": {
        "id": "gwD1zMTZW_CT"
      },
      "execution_count": 18,
      "outputs": []
    },
    {
      "cell_type": "code",
      "source": [
        "fixedpt(f_fix,x0,tol,nmax)"
      ],
      "metadata": {
        "colab": {
          "base_uri": "https://localhost:8080/",
          "height": 0
        },
        "id": "abOhR3u-kxbo",
        "outputId": "c6e72645-f6ba-4fe0-8b48-ff60c088024d"
      },
      "execution_count": 19,
      "outputs": [
        {
          "output_type": "execute_result",
          "data": {
            "text/plain": [
              "([0.5906082045850013,\n",
              "  0.169245340253509,\n",
              "  0.010634744424803888,\n",
              "  0.0012634311184013813,\n",
              "  0.00014535825272404823,\n",
              "  1.678807930854953e-05,\n",
              "  1.938072740070851e-06,\n",
              "  2.237491229517552e-07,\n",
              "  2.583152497459551e-08,\n",
              "  2.98221547456734e-09,\n",
              "  3.4429281647874177e-10,\n",
              "  3.974848228338601e-11,\n",
              "  4.588995849985622e-12,\n",
              "  5.297984273511247e-13],\n",
              " 14,\n",
              " 0.4808644852928405)"
            ]
          },
          "metadata": {},
          "execution_count": 19
        }
      ]
    },
    {
      "cell_type": "code",
      "source": [
        "err_F,iter_F,x_F=fixedpt(f_fix,x0,tol,nmax)\n",
        "print(iter_F)\n",
        "print(x_F)"
      ],
      "metadata": {
        "colab": {
          "base_uri": "https://localhost:8080/",
          "height": 0
        },
        "id": "T4rTaJJBAN18",
        "outputId": "98014190-2788-46fa-90c4-dd354f2679b4"
      },
      "execution_count": 20,
      "outputs": [
        {
          "output_type": "stream",
          "name": "stdout",
          "text": [
            "14\n",
            "0.4808644852928405\n"
          ]
        }
      ]
    },
    {
      "cell_type": "code",
      "source": [
        "import matplotlib.pyplot as plt\n",
        "plt.xscale(\"log\")\n",
        "plt.yscale(\"log\")\n",
        "plt.plot(range(iter_F),err_F, color=\"r\", label=\"Fixed point method\")\n",
        "\n",
        "plt.xlabel(\"iteration\")\n",
        "plt.ylabel(\"error\")\n",
        "plt.title(\"Fixed point method\")\n",
        "plt.legend()\n",
        "plt.show()"
      ],
      "metadata": {
        "colab": {
          "base_uri": "https://localhost:8080/",
          "height": 299
        },
        "id": "F-H7H2dKc75j",
        "outputId": "83e5854c-d177-40d8-d62c-e7155be445df"
      },
      "execution_count": 21,
      "outputs": [
        {
          "output_type": "display_data",
          "data": {
            "text/plain": [
              "<Figure size 432x288 with 1 Axes>"
            ],
            "image/png": "[encoded data removed]"
          },
          "metadata": {
            "needs_background": "light"
          }
        }
      ]
    },
    {
      "cell_type": "code",
      "source": [
        "err_B,x_B,iter_B=bisect(f,x0,b,nmax,tol)"
      ],
      "metadata": {
        "id": "6TAhFmzWAi4U"
      },
      "execution_count": 22,
      "outputs": []
    },
    {
      "cell_type": "code",
      "source": [
        "import matplotlib.pyplot as plt\n",
        "plt.xscale(\"log\")\n",
        "plt.yscale(\"log\")\n",
        "plt.plot(range(iter_B),err_B, color=\"r\", label=\"Bisection method\")\n",
        "\n",
        "plt.xlabel(\"iteration\")\n",
        "plt.ylabel(\"error\")\n",
        "plt.title(\"Bisection method\")\n",
        "plt.legend()\n",
        "plt.show()"
      ],
      "metadata": {
        "colab": {
          "base_uri": "https://localhost:8080/",
          "height": 299
        },
        "id": "ZjjzrS9ybmCT",
        "outputId": "624cfbdb-0289-4673-d766-e49a13ca3155"
      },
      "execution_count": 23,
      "outputs": [
        {
          "output_type": "display_data",
          "data": {
            "text/plain": [
              "<Figure size 432x288 with 1 Axes>"
            ],
            "image/png": "[encoded data removed]"
          },
          "metadata": {
            "needs_background": "light"
          }
        }
      ]
    },
    {
      "cell_type": "code",
      "source": [
        "print(\"   \\t | Newton \\t \\t | Secant \\t \\t | Bisection \\t \\t| Fixed point\")\n",
        "print(\"============================================================================================\")\n",
        "print(\"root \\t |%1.15f  \\t |%1.15f \\t |%1.15f \\t|%1.15f \\t\" %(x_N[iter_N-1],x_S[iter_S-1], x_B,x_F))\n",
        "\n",
        "#, x_S[iter_S], x_B, x_F[iter_F])       \\t | %1.15f \\t | %1.15f"
      ],
      "metadata": {
        "colab": {
          "base_uri": "https://localhost:8080/",
          "height": 0
        },
        "id": "S0ANV9crdWuU",
        "outputId": "448e7ffb-640b-490b-9528-1e2d2e21f6ed"
      },
      "execution_count": 24,
      "outputs": [
        {
          "output_type": "stream",
          "name": "stdout",
          "text": [
            "   \t | Newton \t \t | Secant \t \t | Bisection \t \t| Fixed point\n",
            "============================================================================================\n",
            "root \t |0.480864485292895  \t |0.480864477645743 \t |0.480864485293114 \t|0.480864485292840 \t\n"
          ]
        }
      ]
    },
    {
      "cell_type": "code",
      "source": [
        "print(iter_N,iter_S,iter_B,iter_F)"
      ],
      "metadata": {
        "colab": {
          "base_uri": "https://localhost:8080/",
          "height": 0
        },
        "id": "B_M540HNip3q",
        "outputId": "de7e17b7-e11c-4535-f4d3-1f5df7cff2da"
      },
      "execution_count": 25,
      "outputs": [
        {
          "output_type": "stream",
          "name": "stdout",
          "text": [
            "7 8 39 14\n"
          ]
        }
      ]
    },
    {
      "cell_type": "markdown",
      "source": [
        "As we can see from  above, the Newton method takes fewer iterations. The convergence rates of Newton method and Secant method is quadratics, However the two other methods have linear convergence rate."
      ],
      "metadata": {
        "id": "bY5nQaEBi3Me"
      }
    },
    {
      "cell_type": "markdown",
      "metadata": {
        "id": "e6q8t0bhcqGo"
      },
      "source": [
        "# Problem 3\n",
        "\n",
        "We saw in class that we should avoid calculating the matrix inverse when solving a linear system. We'll empirically verify this claim by repeatedly solving random linear systems using the inverse and Gaussian elimination."
      ]
    },
    {
      "cell_type": "markdown",
      "metadata": {
        "id": "d2PQQM65bE4q"
      },
      "source": [
        "For each $n = 50, 100, 200, 400, 800, 1600$, generate $10$ random linear systems of the form $Ax = b$. To do so, generate a random $n\\times n$ matrix $A$ and $n$-dimensional right-hand side vector $b$ using the function **np.random.rand**.\n",
        "\n",
        "Solve each linear system using:\n",
        "* The matrix inversion function **np.linalg.inv** to find $A^{-1}$ and using the identity $x = A^{-1} b$.\n",
        "* The function **np.linalg.solve**.\n",
        "\n",
        "Record the amount of time needed to solve each linear system, and plot the average run-times of each approach as a function of $n$ using a log-log scale."
      ]
    },
    {
      "cell_type": "code",
      "source": [
        "import numpy as np\n",
        "#generating random matrix and vector of size n\n",
        "def gen(n):\n",
        "  b=np.random.rand(n)\n",
        "  A=np.random.rand(n,n)\n",
        "  return A,b"
      ],
      "metadata": {
        "id": "dh0nE_Tkrz_E"
      },
      "execution_count": 26,
      "outputs": []
    },
    {
      "cell_type": "code",
      "source": [
        "n_vec=[50,100,200,400,800,1600]\n",
        "from time import perf_counter\n",
        "inv_time=np.zeros((6,10))\n",
        "sol_time=np.zeros((6,10))\n",
        "\n",
        "for j in range(len(n_vec)):\n",
        "  for i in range(10):\n",
        "    A,b=gen(n_vec[j])\n",
        "\n",
        "    #storing time for the first method (inv)\n",
        "    t_start = perf_counter()\n",
        "    x=np.matmul(np.linalg.inv(A),b)\n",
        "    t_stop = perf_counter()\n",
        "    inv_time[j][i]=t_stop-t_start\n",
        "\n",
        "    #storing time for the second method (solve)\n",
        "\n",
        "    t_start=perf_counter()\n",
        "    x=np.linalg.solve(A,b)\n",
        "    t_stop=perf_counter()\n",
        "    sol_time[j][i]=t_stop-t_start\n",
        "\n",
        "\n",
        "\n"
      ],
      "metadata": {
        "id": "hHcMIPZzuqqi"
      },
      "execution_count": 27,
      "outputs": []
    },
    {
      "cell_type": "code",
      "source": [
        "\n",
        "#taking average of our experiment:\n",
        "\n",
        "inv_time_av=np.mean(inv_time,1)\n",
        "sol_time_av=np.mean(sol_time,1)\n"
      ],
      "metadata": {
        "id": "Ncvgd7TczsUu"
      },
      "execution_count": 28,
      "outputs": []
    },
    {
      "cell_type": "code",
      "source": [
        "#plotting and comparison\n",
        "\n",
        "import matplotlib.pyplot as plt\n",
        "plt.xscale(\"log\")\n",
        "plt.yscale(\"log\")\n",
        "plt.plot(n_vec,inv_time_av, color=\"r\", label=\"inv method\")\n",
        "plt.plot(n_vec,sol_time_av, color=\"b\", label=\"solve method\")\n",
        "plt.xlabel(\"size n\")\n",
        "plt.ylabel(\"time to solve\")\n",
        "plt.title(\"Solving Linear System\")\n",
        "plt.legend()\n",
        "plt.show()"
      ],
      "metadata": {
        "colab": {
          "base_uri": "https://localhost:8080/",
          "height": 299
        },
        "id": "g-6uTHkpzno1",
        "outputId": "d55df280-b856-41a7-bb15-a3ee7f7a5a8d"
      },
      "execution_count": 29,
      "outputs": [
        {
          "output_type": "display_data",
          "data": {
            "text/plain": [
              "<Figure size 432x288 with 1 Axes>"
            ],
            "image/png": "[encoded data removed]"
          },
          "metadata": {
            "needs_background": "light"
          }
        }
      ]
    }
  ],
  "metadata": {
    "colab": {
      "collapsed_sections": [],
      "provenance": []
    },
    "kernelspec": {
      "display_name": "Python 3.9.12 ('base')",
      "language": "python",
      "name": "python3"
    },
    "language_info": {
      "codemirror_mode": {
        "name": "ipython",
        "version": 3
      },
      "file_extension": ".py",
      "mimetype": "text/x-python",
      "name": "python",
      "nbconvert_exporter": "python",
      "pygments_lexer": "ipython3",
      "version": "3.9.12"
    },
    "vscode": {
      "interpreter": {
        "hash": "11a4eacee6ffa102e6320921cb3802377ef624adc48c2e3ccd934fa4c5d9951f"
      }
    }
  },
  "nbformat": 4,
  "nbformat_minor": 0
}