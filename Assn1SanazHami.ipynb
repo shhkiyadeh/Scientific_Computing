{
  "cells": [
    {
      "cell_type": "markdown",
      "metadata": {
        "id": "f1IPBtbUbry_"
      },
      "source": [
        "# **Assignment 1 (Math 537, Fall 2022)**"
      ]
    },
    {
      "cell_type": "markdown",
      "metadata": {
        "id": "hysyuTLPk22W"
      },
      "source": [
        "# Problem 2\n",
        "\n",
        "\n",
        "\n"
      ]
    },
    {
      "cell_type": "markdown",
      "metadata": {
        "id": "vVDJR9tkb78N"
      },
      "source": [
        "## Part b\n",
        "\n",
        "Write a Python program for evaluating and displaying the horizontal and vertical position of the ball at time $t$ using the formulas calculated in the previous part. Your code should define $v_0$, $g$, $\\theta$, $y_0$, and $t$ as variables.\n",
        "\n",
        "Test your code by calculating $x(t)$ and $y(t)$ at time $t$ for \n",
        "\\begin{align}\n",
        "    t &= 0.25~\\text{s} &  g &= 9.81~ \\text{m/s}^2, \n",
        "    & \\theta &= \\frac{\\pi}{3}~\\text{rad}, & y_0 &= 10~\\text{m},\n",
        "    & v_0 &= 15~\\text{m/s};\n",
        "\\end{align}\n",
        "your code should output $(1.875, 2.941)$ (in meters) as the $(x,y)$-coordinates at time $0.25$ s.\n",
        "\n",
        "\n"
      ]
    },
    {
      "cell_type": "code",
      "source": [
        "# Problem 2, part (b)\n",
        "from math import pi, sin, cos\n",
        "a =  pi / 3         # the initial angle of ball with the x-axis\n",
        "v0 = 15             # magnitude of the initial velocity\n",
        "vx0  = v0*cos(a)    # initial velocity in horizontal direction (in x direction)\n",
        "vy0= v0*sin(a)      # intial velocity in vertical direction (in y direction)\n",
        "g = 9.81            # acceleration of gravity\n",
        "x0 = 0              # initial horizontal position\n",
        "y0 = 10             #initial vertical position\n",
        "t = 0.25            # time\n",
        "\n",
        "# Evaluate formula\n",
        "x = vx0*t + x0  # horizontal position\n",
        "y = -0.5*g*t**2 + vy0*t + y0  # vertical position\n",
        "print (x,y)\n",
        "print(\"At time %gs, the x coordinate is %.3f m, the y coordinate is %.3f m\" %(t,x,y))"
      ],
      "metadata": {
        "colab": {
          "base_uri": "https://localhost:8080/",
          "height": 0
        },
        "id": "OrnLvZP1yzVW",
        "outputId": "d208775e-af4c-49fa-d5ba-76fb21502163"
      },
      "execution_count": 12,
      "outputs": [
        {
          "output_type": "stream",
          "name": "stdout",
          "text": [
            "1.8750000000000004 12.941032764191645\n",
            "At time 0.25s, the x coordinate is 1.875 m, the y coordinate is 12.941 m\n"
          ]
        }
      ]
    },
    {
      "cell_type": "markdown",
      "metadata": {
        "id": "mSmLj4Obt74e"
      },
      "source": [
        "## Part c\n",
        "\n",
        "Use your code from **Part 2a** to calculate the position at time $t=0.2$ s of a ball with $\\theta = \\pi/2$ and initial values $v_0 = 10$ m/s and $y_0 = 0$ m.\n"
      ]
    },
    {
      "cell_type": "code",
      "source": [
        "# Problem 2, part (c)\n",
        "from math import pi, sin, cos\n",
        "a =  pi / 2                 # the initial angle of ball with the x-axis\n",
        "v0 = 10                      # initial velocity\n",
        "vx0  = v0*cos(a)\n",
        "vy0= v0*sin(a)\n",
        "g = 9.81                     # acceleration of gravity\n",
        "x0 = 0\n",
        "y0 = 0                       #initial vertical position\n",
        "t = 0.2                      # time\n",
        "\n",
        "# Evaluate formula\n",
        "x =  x0    # horizontal position\n",
        "y = -0.5*g*t**2 + vy0*t + y0    # vertical position\n",
        "print (x,y)\n",
        "print(\"At time %gs, the x coordinate is %.3f m, the y coordinate is %.3f m\" %(t,x,y))"
      ],
      "metadata": {
        "colab": {
          "base_uri": "https://localhost:8080/",
          "height": 0
        },
        "id": "-sZIzWUi0KgS",
        "outputId": "77df974e-83e0-4055-9247-dac05150775c"
      },
      "execution_count": 23,
      "outputs": [
        {
          "output_type": "stream",
          "name": "stdout",
          "text": [
            "0 1.8037999999999998\n",
            "At time 0.2s, the x coordinate is 0.000 m, the y coordinate is 1.804 m\n"
          ]
        }
      ]
    },
    {
      "cell_type": "markdown",
      "metadata": {
        "id": "jmYRMHv7vcli"
      },
      "source": [
        "## Part d\n",
        "\n",
        "Write a Python program to calculate the vertical position $y$ at horizontal position $x =1$ m for initial conditions \n",
        "\\begin{align*}\n",
        "    \\theta &= \\frac{\\pi}{4}~\\text{rad}, & y_0 &= 5~\\text{m},\n",
        "    & v_0 &= 5~\\text{m/s}.\n",
        "\\end{align*}\n"
      ]
    },
    {
      "cell_type": "code",
      "source": [
        "# Problem 2, part (d)\n",
        "from math import pi, sin, cos, tan\n",
        "a =  pi / 4           # the initial angle of ball with the x-axis\n",
        "v0 = 5                # initial velocity\n",
        "vx0  = v0*cos(a)\n",
        "vy0= v0*sin(a)\n",
        "g = 9.81              # acceleration of gravity\n",
        "x = 1                 # horizontal position\n",
        "x0 = 0                # initial horizontal position\n",
        "y0 = 5                #initial vertical position\n",
        "\n",
        "# Evaluate formula\n",
        "y = -0.5*g*(x/(v0*cos(a)))**2+ x*(sin(a)/cos(a))+ y0  # vertical position y in terms of horizontal position \n",
        "print (x,y)\n",
        "print(y)"
      ],
      "metadata": {
        "colab": {
          "base_uri": "https://localhost:8080/",
          "height": 0
        },
        "id": "V0ludlfQiB96",
        "outputId": "e3fb1781-1edf-4339-bef8-8726fbdf453c"
      },
      "execution_count": 10,
      "outputs": [
        {
          "output_type": "stream",
          "name": "stdout",
          "text": [
            "1 5.6076\n",
            "5.6076\n"
          ]
        }
      ]
    },
    {
      "cell_type": "markdown",
      "metadata": {
        "id": "e6q8t0bhcqGo"
      },
      "source": [
        "# Problem 3\n",
        "\n",
        "As an egg cooks, the proteins first denature and then coagulate. When the temperature exceeds a critical point, reactions begin and proceed faster as the temperature increases.\n",
        "In the egg white, the proteins start to coagulate for temperatures above\n",
        "63$^\\circ$ C, while in the yolk the proteins start to coagulate for temperatures above 70$^\\circ$C: "
      ]
    },
    {
      "cell_type": "markdown",
      "metadata": {
        "id": "om5EpGnZyxef"
      },
      "source": [
        "   \n",
        "* For a soft boiled egg, the white needs to have been heated long enough to coagulate at a temperature above 63$^\\circ$ C, but the yolk should not be heated above 70$^\\circ$ C. \n",
        "* For a hard boiled egg, the center of the yolk should be allowed to reach 70$^\\circ$ C.\n",
        "\n",
        "The amount of time required (in seconds) for the center of the yolk to reach the temperature $T_y$ (in $^\\circ$ C) is given by \n",
        "$$\n",
        "    t = \\frac{M^{2/3} c \\rho^{1/3}}{K \\pi^2 (4 \\pi/3)^{2/3}} \n",
        "    \\ln \\left({0.76 \\frac{T_0 - T_w}{T_y - T_w} }\\right),\n",
        "$$\n",
        "where \n",
        "\n",
        "* $M$ is the mass (in grams), $\\rho$ is the density (in $\\text{g/cm}^3$),  $c$ is the specific heat capacity in joules per gram per Kelvin ($\\text{J} \\text{g}^{-1} \\text{K}^{-1}$), and $K$ is thermal conductivity in Watts per cm per Kelvin ($\\text{W} \\text{cm}^{-1} \\text{K}^{-1}$).\n",
        "* $T_w$ is the temperature of boiling water (100 \\degree C) and $T_0$ is the temperature of the egg before being put in the water (in \\degree C).\n",
        "* The density, heat capacity, and thermal conductivity can be assumed to take values \n",
        "\\begin{align*}\n",
        "    \\rho &= 1.038~\\text{g/cm}^3 & \n",
        "    c & = 3.7~\\text{J} \\text{g}^{-1} \\text{K}^{-1} & \n",
        "    K &= 5.4\\cdot 10^{-3}~\\text{W} \\text{cm}^{-1} \\text{K}^{-1}.\n",
        "\\end{align*}\n"
      ]
    },
    {
      "cell_type": "markdown",
      "metadata": {
        "id": "ntFIDgiRdh5N"
      },
      "source": [
        "## Part a\n",
        "\n",
        "Calculate the amount of time to cook a soft-boiled egg with internal temperature 65$^\\circ$ C and a hard-boiled egg with internal temperature 77 $^\\circ$ C if the egg is initially at room temperature ($T_0 = 20 ^\\circ$ C)."
      ]
    },
    {
      "cell_type": "code",
      "source": [
        "# Problem 3, part (a)\n",
        "from numpy import pi, log\n",
        "M = 65              # the mass (in grams)\n",
        "rho = 1.038         # the density (in g/cm^3)\n",
        "c = 3.7             # the specific heat capacity in joules per gram per Kelvin\n",
        "K = 5.4 * 10**(-3)  # thermal conductivity in Watts per cm per Kelvin\n",
        "T0 = 20             # temorature of the egg before being put in the water (room temperature)\n",
        "Tw = 100            # the temperature of the boiling water\n",
        "Ty_soft = 65        # internal temperature for the soft-boiled egg\n",
        "\n",
        "a = M ** (2.0 / 3) * c * rho ** (1.0 / 3) \n",
        "b = (K * pi ** 2)*(4 * pi / 3) ** (2 / 3)\n",
        "d = log(0.76 * (T0 - Tw) /(Ty_soft - Tw))\n",
        "t = (a/b) * d       # the amount of time to cook a soft-boiled egg\n",
        "print(t)\n"
      ],
      "metadata": {
        "colab": {
          "base_uri": "https://localhost:8080/",
          "height": 0
        },
        "id": "_LKSbrZg3ZSp",
        "outputId": "9b1271b8-aaf2-417b-fda8-9e6b96cbf876"
      },
      "execution_count": 13,
      "outputs": [
        {
          "output_type": "stream",
          "name": "stdout",
          "text": [
            "241.5014376845268\n"
          ]
        }
      ]
    },
    {
      "cell_type": "code",
      "source": [
        "# Problem 3, part (a)\n",
        "from numpy import pi, log\n",
        "M = 65                  # the mass (in grams)\n",
        "rho = 1.038             # the density (in g/cm^3)\n",
        "c = 3.7                 # the specific heat capacity in joules per gram per Kelvin\n",
        "K = 5.4 * 10**(-3)      # thermal conductivity in Watts per cm per Kelvin\n",
        "T0 = 20                 # temorature of the egg before being put in the water (room temperature)\n",
        "Tw = 100                # the temperature of the boiling water\n",
        "Ty_hard = 77            # internal temperature for the hard-boiled egg\n",
        "\n",
        "a = M ** (2.0 / 3) * c * rho ** (1.0 / 3) \n",
        "b = (K * pi ** 2)*(4 * pi / 3) ** (2 / 3)\n",
        "d = log(0.76 * (T0 - Tw) /(Ty_hard - Tw))\n",
        "t = (a/b) * d           # the amount of time to cook a hard-boiled egg\n",
        "print(t)\n"
      ],
      "metadata": {
        "colab": {
          "base_uri": "https://localhost:8080/",
          "height": 0
        },
        "id": "AUUGAHDCXaZZ",
        "outputId": "4f44a223-d829-4d04-aebe-336cb0e03cae"
      },
      "execution_count": 7,
      "outputs": [
        {
          "output_type": "stream",
          "name": "stdout",
          "text": [
            "425.1081850094218\n"
          ]
        }
      ]
    },
    {
      "cell_type": "markdown",
      "metadata": {
        "id": "vXukUgnSkcOg"
      },
      "source": [
        "## Part b\n",
        "\n",
        "Repeat for an egg taken from a fridge with internal temperature $4^\\circ$ C. Assume again that the egg has mass $M = 65$ g."
      ]
    },
    {
      "cell_type": "code",
      "source": [
        "# Problem 3, part (b)\n",
        "from numpy import pi, log\n",
        "M = 65                   # the mass (in grams)\n",
        "rho = 1.038              # the density (in g/cm^3)\n",
        "c = 3.7                  # the specific heat capacity in joules per gram per Kelvin\n",
        "K = 5.4 * 10**(-3)       # thermal conductivity in Watts per cm per Kelvin\n",
        "T0 = 4                   # temorature of the egg before being put in the water      \n",
        "Tw = 100                 # the temperature of the boiling water\n",
        "Ty_soft = 65             # internal temperature for the soft-boiled egg\n",
        "\n",
        "a = M ** (2.0 / 3) * c * rho ** (1.0 / 3) \n",
        "b = (K * pi ** 2)*(4 * pi / 3) ** (2 / 3)\n",
        "d = log(0.76 * (T0 - Tw) /(Ty_soft - Tw))\n",
        "t = (a/b) * d            # the amount of time to cook a soft-boiled egg\n",
        "print(t)\n"
      ],
      "metadata": {
        "id": "d2vAyvzWRM6E",
        "colab": {
          "base_uri": "https://localhost:8080/",
          "height": 0
        },
        "outputId": "51cec839-9576-4497-f96d-66d1b3a3065c"
      },
      "execution_count": 3,
      "outputs": [
        {
          "output_type": "stream",
          "name": "stdout",
          "text": [
            "321.232678363003\n"
          ]
        }
      ]
    },
    {
      "cell_type": "code",
      "source": [
        "# Problem 3, part (b)\n",
        "from numpy import pi, log\n",
        "M = 65                        # the mass (in grams)\n",
        "rho = 1.038                   # the density (in g/cm^3)\n",
        "c = 3.7                       # the specific heat capacity in joules per gram per Kelvin\n",
        "K = 5.4 * 10**(-3)            # thermal conductivity in Watts per cm per Kelvin\n",
        "T0 = 4                        # temorature of the egg before being put in the water \n",
        "Tw = 100                      # the temperature of the boiling water\n",
        "Ty_hard = 77                  # internal temperature for the hard-boiled egg\n",
        "\n",
        "a = M ** (2.0 / 3) * c * rho ** (1.0 / 3) \n",
        "b = (K * pi ** 2)*(4 * pi / 3) ** (2 / 3)\n",
        "d = log(0.76 * (T0 - Tw) /(Ty_hard - Tw))\n",
        "t = (a/b) * d                 # the amount of time to cook a hard-boiled egg\n",
        "print(t)\n"
      ],
      "metadata": {
        "colab": {
          "base_uri": "https://localhost:8080/",
          "height": 0
        },
        "id": "chKP5umUX65E",
        "outputId": "d7187833-1060-4938-a2e5-d0de2b5e07e3"
      },
      "execution_count": 8,
      "outputs": [
        {
          "output_type": "stream",
          "name": "stdout",
          "text": [
            "504.8394256878979\n"
          ]
        }
      ]
    }
  ],
  "metadata": {
    "colab": {
      "collapsed_sections": [],
      "provenance": []
    },
    "kernelspec": {
      "display_name": "Python 3.9.12 ('base')",
      "language": "python",
      "name": "python3"
    },
    "language_info": {
      "name": "python",
      "version": "3.9.12"
    },
    "vscode": {
      "interpreter": {
        "hash": "11a4eacee6ffa102e6320921cb3802377ef624adc48c2e3ccd934fa4c5d9951f"
      }
    }
  },
  "nbformat": 4,
  "nbformat_minor": 0
}