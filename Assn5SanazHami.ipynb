{
  "cells": [
    {
      "cell_type": "markdown",
      "metadata": {
        "id": "1HeGTeIqlxQ4"
      },
      "source": [
        "# **Assignment 5 Sanaz(due Friday Dec 2, 2022)**\n",
        "# **Sanaz Hami Hassan Kiyadeh, shkiyadeh@crimson.ua.edu**"
      ]
    },
    {
      "cell_type": "markdown",
      "metadata": {
        "id": "PWiz5XVYlxQ6"
      },
      "source": [
        "# Problem 1"
      ]
    },
    {
      "cell_type": "markdown",
      "metadata": {
        "id": "vPER3bZSlxQ6"
      },
      "source": [
        "## Part b\n",
        "\n",
        "Make a *class* called **NormalDist** for making calculations involving the normal distribution $N(\\mu, \\sigma^2)$ given by density function \n",
        "$$\n",
        "    f(x) = \\frac{1}{\\sigma \\sqrt{2 \\pi}} \\exp\\left(-\\frac{1}{2} \\left(\\frac{x - \\mu}{\\sigma}\\right)^2 \\right).\n",
        "$$\n",
        "Your class should have the following functions:\n",
        "\n",
        "* **density(x)** which gives the value of the density function $f(x)$ for given $x$.\n",
        "    \n",
        "* **prob(a,b)** which gives the probability that a normal random variable $X$ belongs to the interval $(a,b)$. This is given by the identity\n",
        "$$\n",
        "    P(a \\le X \\le b) = \\int_a^b f(x)~dx  \n",
        "    = \\int \\frac{1}{\\sigma \\sqrt{2 \\pi}} \\exp\\left(-\\frac{1}{2} \\left(\\frac{x - \\mu}{\\sigma}\\right)^2 \\right)~dx.\n",
        "$$\n",
        "* You should use branching to write a program to calculate this integral using the Simpson's method (you should include a function for this in your class) for the following cases:\n",
        "\n",
        "    1. $a = -\\infty$, $b < \\mu$, \n",
        "    2. $a = -\\infty$, $b \\ge \\mu$,\n",
        "    3. $-\\infty < a \\le  b < \\infty$,\n",
        "    4. $-\\infty < a < \\mu$, $b = +\\infty$,\n",
        "    5. $\\mu < a$, $b = +\\infty$.\n",
        "\n",
        "\n",
        "* You can use the strings **\"-inf\"** and **\"inf\"** to give infinite end points of integration. \n",
        "    \n",
        "\n",
        "* **expectedVal** which gives the *expected* or *mean* or *average value* of random variable $X$ with distribution $N(\\mu, \\sigma^2)$:\n",
        "$$\n",
        "    \\text{E}[X] = \\int_{-\\infty}^{\\infty} x f(x)~dx \n",
        "    = \\int_{-\\infty}^{\\infty} \\frac{x}{\\sigma \\sqrt{2 \\pi}} \\exp\\left(-\\frac{1}{2} \\left(\\frac{x - \\mu}{\\sigma}\\right)^2 \\right)~dx\n",
        "$$\n",
        "\n",
        "* **variance** which gives the *variance* of $X$, defined by \n",
        "$$\n",
        "    \\text{Var[X]} = \\int_{-\\infty}^{\\infty} (x- \\mu)^2 f(x)~dx = \n",
        "    \\int_{-\\infty}^{\\infty} \\frac{(x - \\mu)^2}{\\sigma \\sqrt{2 \\pi}} \\exp\\left(-\\frac{1}{2} \\left(\\frac{x - \\mu}{\\sigma}\\right)^2 \\right)~dx.\n",
        "$$\n",
        "Note that this is the expected squared deviation from the mean value $\\mu$.\n",
        "\n",
        "\n",
        "### Hint\n",
        "* You can use the **quad** function  from the **scipy.integrate** package to perform numerical integration. See the [documentation](https://docs.scipy.org/doc/scipy/tutorial/integrate.html) for more details.\n",
        "* You'll need to use the change of variables from Part (a) to numerically integrate any improper integrals in the calculation of the expected value and variance. \n",
        "* You should be able to use the identities \n",
        "\\begin{align*}\n",
        "    P(X \\le \\mu) &= P(X \\ge \\mu) =  \\frac{1}{2} \\\\ \n",
        "    P(a \\le X \\le c) &= P(a \\le X \\le b) + P(b \\le X \\le c), \\text{ for all } a \\le b \\le c \\\\ \n",
        "    P(a \\le X) &= 1 - P(X \\ge a), \\text{ for all } a \\in \\mathbf{R},\n",
        "\\end{align*}\n",
        "to perform every probability calculation using only proper integrals."
      ]
    },
    {
      "cell_type": "code",
      "source": [
        "#importing libraries\n",
        "\n",
        "import numpy as np\n",
        "import scipy.integrate as integrate"
      ],
      "metadata": {
        "id": "7bzHbOXt8yJo"
      },
      "execution_count": 1,
      "outputs": []
    },
    {
      "cell_type": "code",
      "source": [
        "class NormalDist:\n",
        "  def __init__(self,mu,sigma2):\n",
        "    self.mu=mu\n",
        "    self.sigma2=sigma2\n",
        "  def density(self,x):\n",
        "    coeff=1/(np.sqrt(self.sigma2*2*np.pi))\n",
        "    inner_func=-0.5*((x-self.mu)**2/self.sigma2)\n",
        "    return coeff*np.exp(inner_func)\n",
        "  def expectedVal(self):\n",
        "    return integrate.quad(lambda x: x*self.density(x), -np.inf,np.inf)[0] \n",
        "  #expected value by change of variable:\n",
        "  def expectedValc(self):\n",
        "    return integrate.quad(lambda x: np.tan(x)*self.density(np.tan(x))/(np.cos(x)**2),-np.pi/2,np.pi/2)[0] \n",
        "  def variance(self):\n",
        "    return  integrate.quad(lambda x: (x-self.mu)**2*self.density(x), -np.inf,np.inf)[0]\n",
        "  #variance by change of variable:\n",
        "  def variancec(self):\n",
        "    return integrate.quad(lambda x: (np.tan(x)-self.mu)**2*self.density(np.tan(x))/(np.cos(x)**2),-np.pi/2,np.pi/2)[0]\n",
        "  def prob(self,a,b):\n",
        "    return integrate.quad(lambda x: self.density(x), a,b)[0]  \n",
        "  #prob function using change of variable:\n",
        "  def probc(self,a,b):\n",
        "    if a==-np.inf:\n",
        "      a=-np.pi/2\n",
        "      b=np.arctan(b)\n",
        "      return integrate.quad(lambda x: self.density(np.tan(x))/(np.cos(x)**2),a,b)[0]\n",
        "    elif b==np.inf:\n",
        "      a=np.arctan(a)\n",
        "      b=np.pi/2\n",
        "      return  integrate.quad(lambda x: self.density(np.tan(x))/(np.cos(x)**2),a,b)[0]\n",
        "    else:\n",
        "      return   integrate.quad(lambda x: self.density(x), a,b)[0]"
      ],
      "metadata": {
        "id": "gODV2gnTAF3j"
      },
      "execution_count": 2,
      "outputs": []
    },
    {
      "cell_type": "markdown",
      "metadata": {
        "id": "xe22oRj6lxQ7"
      },
      "source": [
        "## Part c\n",
        "\n",
        "Use the class **NormalDist** to calculate: \n",
        "* $P(X < 2)$\n",
        "\n",
        "* $P(X < 1)$\n",
        "\n",
        "* $P(X > - 2)$\n",
        "\n",
        "* $P(X > 3)$\n",
        "\n",
        "* $P(1 < X < 3)$\n",
        "\n",
        "* $\\text{E}[X]$, and \n",
        "\n",
        "* $\\text{Var}[X]$\n",
        "\n",
        "for $X$ with normal distribution with $\\mu = 3/2$ and $\\sigma^2 = 4$."
      ]
    },
    {
      "cell_type": "code",
      "source": [
        "X=NormalDist(3/2,4)\n",
        "\n",
        "#P(X<2)\n",
        "print(X.prob(-np.inf,2))\n",
        "#using the change of variable technique:\n",
        "print(X.probc(-np.inf,2))\n"
      ],
      "metadata": {
        "colab": {
          "base_uri": "https://localhost:8080/",
          "height": 0
        },
        "id": "abOUYWM5Olsy",
        "outputId": "f00c35e6-b77e-4c0b-baa2-d81668a3b1db"
      },
      "execution_count": 3,
      "outputs": [
        {
          "output_type": "stream",
          "name": "stdout",
          "text": [
            "0.5987063256829238\n",
            "0.5987063256829285\n"
          ]
        }
      ]
    },
    {
      "cell_type": "code",
      "source": [
        "\n",
        "#P(X<1)\n",
        "print(X.prob(-np.inf,1))\n",
        "#using the change of variable technique:\n",
        "print(X.probc(-np.inf,1))"
      ],
      "metadata": {
        "colab": {
          "base_uri": "https://localhost:8080/",
          "height": 0
        },
        "id": "OWU8Io98uE0e",
        "outputId": "f1f5ce67-6899-450d-ef62-a46b06e90908"
      },
      "execution_count": 4,
      "outputs": [
        {
          "output_type": "stream",
          "name": "stdout",
          "text": [
            "0.40129367431707635\n",
            "0.40129367431707613\n"
          ]
        }
      ]
    },
    {
      "cell_type": "code",
      "source": [
        "#P(X>-2)\n",
        "print(X.prob(-2,np.inf))\n",
        "#change of variable\n",
        "print(X.probc(-2,np.inf))"
      ],
      "metadata": {
        "colab": {
          "base_uri": "https://localhost:8080/",
          "height": 0
        },
        "id": "9t-Xh1gmuIuK",
        "outputId": "0628872c-f054-4c2c-f419-8c8c2015cc9f"
      },
      "execution_count": 5,
      "outputs": [
        {
          "output_type": "stream",
          "name": "stdout",
          "text": [
            "0.9599408431361841\n",
            "0.9599408431361828\n"
          ]
        }
      ]
    },
    {
      "cell_type": "code",
      "source": [
        "#P(X>3)\n",
        "print(X.prob(3,np.inf))\n",
        "#change of variable\n",
        "print(X.probc(3,np.inf))"
      ],
      "metadata": {
        "colab": {
          "base_uri": "https://localhost:8080/",
          "height": 0
        },
        "id": "4FbXaQzrud5O",
        "outputId": "847f0d01-57de-453d-e2f7-0b8eb27873ff"
      },
      "execution_count": 6,
      "outputs": [
        {
          "output_type": "stream",
          "name": "stdout",
          "text": [
            "0.2266273523768682\n",
            "0.22662735237686815\n"
          ]
        }
      ]
    },
    {
      "cell_type": "code",
      "source": [
        "#P(1<X<3)\n",
        "print(X.prob(1,3))\n",
        "#change of variable\n",
        "print(X.probc(1,3))"
      ],
      "metadata": {
        "colab": {
          "base_uri": "https://localhost:8080/",
          "height": 0
        },
        "id": "j_mm7_pmutZ1",
        "outputId": "318c70a6-0137-4711-c1ec-d626cb6f5af0"
      },
      "execution_count": 7,
      "outputs": [
        {
          "output_type": "stream",
          "name": "stdout",
          "text": [
            "0.3720789733060556\n",
            "0.3720789733060556\n"
          ]
        }
      ]
    },
    {
      "cell_type": "code",
      "source": [
        "#expected value \n",
        "print(X.expectedVal())\n",
        "#change of variable \n",
        "print(X.expectedValc())"
      ],
      "metadata": {
        "colab": {
          "base_uri": "https://localhost:8080/",
          "height": 0
        },
        "id": "ldUv6JLsuzVY",
        "outputId": "e1033ba1-2b55-4f56-d023-c1438728c305"
      },
      "execution_count": 8,
      "outputs": [
        {
          "output_type": "stream",
          "name": "stdout",
          "text": [
            "1.5000000000000004\n",
            "1.4999999999999998\n"
          ]
        }
      ]
    },
    {
      "cell_type": "code",
      "source": [
        "\n",
        "#variance\n",
        "print(X.variance())\n",
        "\n",
        "#change of variable\n",
        "print(X.variancec())"
      ],
      "metadata": {
        "colab": {
          "base_uri": "https://localhost:8080/",
          "height": 0
        },
        "id": "A93M-uBNyX-I",
        "outputId": "e79bacd4-148a-45bb-b9b4-d2ae7a90a305"
      },
      "execution_count": 9,
      "outputs": [
        {
          "output_type": "stream",
          "name": "stdout",
          "text": [
            "4.0\n",
            "4.000000000000008\n"
          ]
        }
      ]
    },
    {
      "cell_type": "markdown",
      "metadata": {
        "id": "EDAtc6MNlxQ8"
      },
      "source": [
        "# Problem 2"
      ]
    },
    {
      "cell_type": "markdown",
      "metadata": {
        "id": "LZ19lglRlxQ8"
      },
      "source": [
        "## Part a\n",
        "\n",
        "Make a *module* called **triangle.py** which contains the following functions:\n",
        "* **triArea(d)** which calculates the *area* of a triangle with vertices given by the dictionary:\n",
        "\n",
        "$$ d = \\left\\{1: (x_1, y_1),~2: (x_2, y_2),~3: (x_3, y_3) \\right\\}.$$\n",
        "* **triPerimeter(d)** which calculates the *area* of a triangle with vertices given by the dictionary **d**.\n",
        "* **triPlot(d)** which *plots the triangle in the plane with vertices given by the dictionary **d**.\n"
      ]
    },
    {
      "cell_type": "markdown",
      "metadata": {
        "id": "JMWO-74clxQ8"
      },
      "source": [
        "### Hint:\n",
        "\n",
        "You can use the formula \n",
        "$$\n",
        "    A = \\frac{1}{2} |x_2 y_3 - x_3 y_2 - x_1 y_3 + x_3 y_1 + x_1 y_2 - x_3 y_2|\n",
        "$$\n",
        "to calculate the area and modify the path length function from Problem 3 on Assignment 3 to calculate perimeter. You can use **pyPlot** to plot the line segments joining the given vertices to plot the triangle."
      ]
    },
    {
      "cell_type": "code",
      "source": [
        "def triArea(d):\n",
        "  import numpy as np\n",
        "  a=d[2][0]*d[3][1]-d[3][0]*d[2][1]-d[1][0]*d[3][1]+d[3][0]*d[1][1]+d[1][0]*d[2][1]-d[2][0]*d[1][1]\n",
        "  return 0.5*np.abs(a)\n",
        "\n",
        "\n",
        "\n",
        "def triPerimeter(d):\n",
        "  import numpy as np\n",
        "  l1=np.sqrt((d[2][0]-d[1][0])**2+(d[2][1]-d[1][1])**2)\n",
        "  l2=np.sqrt((d[3][0]-d[1][0])**2+(d[3][1]-d[1][1])**2)\n",
        "  l3=np.sqrt((d[2][0]-d[3][0])**2+(d[2][1]-d[3][1])**2)\n",
        "  return l1+l2+l3\n",
        "\n",
        "\n",
        "def triPlot(d):\n",
        "  import matplotlib.pyplot as plt\n",
        "  x=[x[0] for x in d.values()]\n",
        "  x.append(x[0])\n",
        "  y=[y[1] for y in d.values()]\n",
        "  y.append(y[0])\n",
        "  plt.plot(x,y, color=\"r\")\n",
        "  plt.xlabel(\"x\")\n",
        "  plt.ylabel(\"y\")\n",
        "  plt.title(\"plot of the triangle\")\n",
        "  plt.show"
      ],
      "metadata": {
        "id": "PPuhL5xDb14l"
      },
      "execution_count": 10,
      "outputs": []
    },
    {
      "cell_type": "code",
      "source": [
        "from google.colab import files\n",
        "f=files.upload()"
      ],
      "metadata": {
        "colab": {
          "base_uri": "https://localhost:8080/",
          "height": 73
        },
        "id": "IEDK7Z7OeZr0",
        "outputId": "69d004a0-40e0-4132-db1a-55bfb754deb3"
      },
      "execution_count": 11,
      "outputs": [
        {
          "output_type": "display_data",
          "data": {
            "text/plain": [
              "<IPython.core.display.HTML object>"
            ],
            "text/html": [
              "\n",
              "     <input type=\"file\" id=\"files-802ac6ed-9501-47d3-b0ed-cd4edbe384b7\" name=\"files[]\" multiple disabled\n",
              "        style=\"border:none\" />\n",
              "     <output id=\"result-802ac6ed-9501-47d3-b0ed-cd4edbe384b7\">\n",
              "      Upload widget is only available when the cell has been executed in the\n",
              "      current browser session. Please rerun this cell to enable.\n",
              "      </output>\n",
              "      <script>// Copyright 2017 Google LLC\n",
              "//\n",
              "// Licensed under the Apache License, Version 2.0 (the \"License\");\n",
              "// you may not use this file except in compliance with the License.\n",
              "// You may obtain a copy of the License at\n",
              "//\n",
              "//      http://www.apache.org/licenses/LICENSE-2.0\n",
              "//\n",
              "// Unless required by applicable law or agreed to in writing, software\n",
              "// distributed under the License is distributed on an \"AS IS\" BASIS,\n",
              "// WITHOUT WARRANTIES OR CONDITIONS OF ANY KIND, either express or implied.\n",
              "// See the License for the specific language governing permissions and\n",
              "// limitations under the License.\n",
              "\n",
              "/**\n",
              " * @fileoverview Helpers for google.colab Python module.\n",
              " */\n",
              "(function(scope) {\n",
              "function span(text, styleAttributes = {}) {\n",
              "  const element = document.createElement('span');\n",
              "  element.textContent = text;\n",
              "  for (const key of Object.keys(styleAttributes)) {\n",
              "    element.style[key] = styleAttributes[key];\n",
              "  }\n",
              "  return element;\n",
              "}\n",
              "\n",
              "// Max number of bytes which will be uploaded at a time.\n",
              "const MAX_PAYLOAD_SIZE = 100 * 1024;\n",
              "\n",
              "function _uploadFiles(inputId, outputId) {\n",
              "  const steps = uploadFilesStep(inputId, outputId);\n",
              "  const outputElement = document.getElementById(outputId);\n",
              "  // Cache steps on the outputElement to make it available for the next call\n",
              "  // to uploadFilesContinue from Python.\n",
              "  outputElement.steps = steps;\n",
              "\n",
              "  return _uploadFilesContinue(outputId);\n",
              "}\n",
              "\n",
              "// This is roughly an async generator (not supported in the browser yet),\n",
              "// where there are multiple asynchronous steps and the Python side is going\n",
              "// to poll for completion of each step.\n",
              "// This uses a Promise to block the python side on completion of each step,\n",
              "// then passes the result of the previous step as the input to the next step.\n",
              "function _uploadFilesContinue(outputId) {\n",
              "  const outputElement = document.getElementById(outputId);\n",
              "  const steps = outputElement.steps;\n",
              "\n",
              "  const next = steps.next(outputElement.lastPromiseValue);\n",
              "  return Promise.resolve(next.value.promise).then((value) => {\n",
              "    // Cache the last promise value to make it available to the next\n",
              "    // step of the generator.\n",
              "    outputElement.lastPromiseValue = value;\n",
              "    return next.value.response;\n",
              "  });\n",
              "}\n",
              "\n",
              "/**\n",
              " * Generator function which is called between each async step of the upload\n",
              " * process.\n",
              " * @param {string} inputId Element ID of the input file picker element.\n",
              " * @param {string} outputId Element ID of the output display.\n",
              " * @return {!Iterable<!Object>} Iterable of next steps.\n",
              " */\n",
              "function* uploadFilesStep(inputId, outputId) {\n",
              "  const inputElement = document.getElementById(inputId);\n",
              "  inputElement.disabled = false;\n",
              "\n",
              "  const outputElement = document.getElementById(outputId);\n",
              "  outputElement.innerHTML = '';\n",
              "\n",
              "  const pickedPromise = new Promise((resolve) => {\n",
              "    inputElement.addEventListener('change', (e) => {\n",
              "      resolve(e.target.files);\n",
              "    });\n",
              "  });\n",
              "\n",
              "  const cancel = document.createElement('button');\n",
              "  inputElement.parentElement.appendChild(cancel);\n",
              "  cancel.textContent = 'Cancel upload';\n",
              "  const cancelPromise = new Promise((resolve) => {\n",
              "    cancel.onclick = () => {\n",
              "      resolve(null);\n",
              "    };\n",
              "  });\n",
              "\n",
              "  // Wait for the user to pick the files.\n",
              "  const files = yield {\n",
              "    promise: Promise.race([pickedPromise, cancelPromise]),\n",
              "    response: {\n",
              "      action: 'starting',\n",
              "    }\n",
              "  };\n",
              "\n",
              "  cancel.remove();\n",
              "\n",
              "  // Disable the input element since further picks are not allowed.\n",
              "  inputElement.disabled = true;\n",
              "\n",
              "  if (!files) {\n",
              "    return {\n",
              "      response: {\n",
              "        action: 'complete',\n",
              "      }\n",
              "    };\n",
              "  }\n",
              "\n",
              "  for (const file of files) {\n",
              "    const li = document.createElement('li');\n",
              "    li.append(span(file.name, {fontWeight: 'bold'}));\n",
              "    li.append(span(\n",
              "        `(${file.type || 'n/a'}) - ${file.size} bytes, ` +\n",
              "        `last modified: ${\n",
              "            file.lastModifiedDate ? file.lastModifiedDate.toLocaleDateString() :\n",
              "                                    'n/a'} - `));\n",
              "    const percent = span('0% done');\n",
              "    li.appendChild(percent);\n",
              "\n",
              "    outputElement.appendChild(li);\n",
              "\n",
              "    const fileDataPromise = new Promise((resolve) => {\n",
              "      const reader = new FileReader();\n",
              "      reader.onload = (e) => {\n",
              "        resolve(e.target.result);\n",
              "      };\n",
              "      reader.readAsArrayBuffer(file);\n",
              "    });\n",
              "    // Wait for the data to be ready.\n",
              "    let fileData = yield {\n",
              "      promise: fileDataPromise,\n",
              "      response: {\n",
              "        action: 'continue',\n",
              "      }\n",
              "    };\n",
              "\n",
              "    // Use a chunked sending to avoid message size limits. See b/62115660.\n",
              "    let position = 0;\n",
              "    do {\n",
              "      const length = Math.min(fileData.byteLength - position, MAX_PAYLOAD_SIZE);\n",
              "      const chunk = new Uint8Array(fileData, position, length);\n",
              "      position += length;\n",
              "\n",
              "      const base64 = btoa(String.fromCharCode.apply(null, chunk));\n",
              "      yield {\n",
              "        response: {\n",
              "          action: 'append',\n",
              "          file: file.name,\n",
              "          data: base64,\n",
              "        },\n",
              "      };\n",
              "\n",
              "      let percentDone = fileData.byteLength === 0 ?\n",
              "          100 :\n",
              "          Math.round((position / fileData.byteLength) * 100);\n",
              "      percent.textContent = `${percentDone}% done`;\n",
              "\n",
              "    } while (position < fileData.byteLength);\n",
              "  }\n",
              "\n",
              "  // All done.\n",
              "  yield {\n",
              "    response: {\n",
              "      action: 'complete',\n",
              "    }\n",
              "  };\n",
              "}\n",
              "\n",
              "scope.google = scope.google || {};\n",
              "scope.google.colab = scope.google.colab || {};\n",
              "scope.google.colab._files = {\n",
              "  _uploadFiles,\n",
              "  _uploadFilesContinue,\n",
              "};\n",
              "})(self);\n",
              "</script> "
            ]
          },
          "metadata": {}
        },
        {
          "output_type": "stream",
          "name": "stdout",
          "text": [
            "Saving triangle.py to triangle.py\n"
          ]
        }
      ]
    },
    {
      "cell_type": "markdown",
      "metadata": {
        "id": "wCCmshsBlxQ8"
      },
      "source": [
        "## Part b\n",
        "\n",
        "Use the **triangle** module to calculate the area and perimeter and plot the triangle with end points $(0,1)$, $(0, 0)$, and $(1,1)$."
      ]
    },
    {
      "cell_type": "code",
      "source": [
        "d={1:(0,1), 2:(0,0),3:(1,1)}"
      ],
      "metadata": {
        "id": "H9bwcEFte54i"
      },
      "execution_count": 12,
      "outputs": []
    },
    {
      "cell_type": "code",
      "source": [
        "import triangle as tri\n"
      ],
      "metadata": {
        "id": "Rh9HLmUxfAo7"
      },
      "execution_count": 13,
      "outputs": []
    },
    {
      "cell_type": "code",
      "source": [
        "tri.triArea(d)"
      ],
      "metadata": {
        "colab": {
          "base_uri": "https://localhost:8080/",
          "height": 0
        },
        "id": "Osm3nbs6fKf5",
        "outputId": "54723b4b-d65c-4de7-ecdf-054f4f86e8ad"
      },
      "execution_count": 14,
      "outputs": [
        {
          "output_type": "execute_result",
          "data": {
            "text/plain": [
              "0.5"
            ]
          },
          "metadata": {},
          "execution_count": 14
        }
      ]
    },
    {
      "cell_type": "code",
      "source": [
        "tri.triPerimeter(d)"
      ],
      "metadata": {
        "colab": {
          "base_uri": "https://localhost:8080/",
          "height": 0
        },
        "id": "40z-5TibfOCO",
        "outputId": "c4ab13e8-9238-412d-f403-52773b722543"
      },
      "execution_count": 15,
      "outputs": [
        {
          "output_type": "execute_result",
          "data": {
            "text/plain": [
              "3.414213562373095"
            ]
          },
          "metadata": {},
          "execution_count": 15
        }
      ]
    },
    {
      "cell_type": "code",
      "source": [
        "tri.triPlot(d)"
      ],
      "metadata": {
        "colab": {
          "base_uri": "https://localhost:8080/",
          "height": 295
        },
        "id": "lrQ71O1Mgm4B",
        "outputId": "3cf184d4-e80a-46a1-c9ce-6656c4bee19b"
      },
      "execution_count": 16,
      "outputs": [
        {
          "output_type": "display_data",
          "data": {
            "text/plain": [
              "<Figure size 432x288 with 1 Axes>"
            ],
            "image/png": "[encoded data removed]"
          },
          "metadata": {
            "needs_background": "light"
          }
        }
      ]
    },
    {
      "cell_type": "markdown",
      "metadata": {
        "id": "wcBlDiT4lxQ9"
      },
      "source": [
        "# Problem 3\n",
        "\n",
        "The **Sherman-Morrison Formula** gives the inverse of a *rank-one* update of a matrix $A \\in \\mathbf{R}^{n\\times n}$:\n",
        "$$\n",
        "    (A + uv^T)^{-1} = A^{-1} - \\frac{A^{-1} u v^T A^{-1}}{1 + v^T A^{-1} u}.\n",
        "$$\n",
        "That is, if we know the inverse of $A$, and we perturb $A$ by the rank-one matrix $uv^T$, then the Sherman-Morrison formula gives the inverse of the perturbed matrix $A + uv^T$ in terms of $A^{-1}$, $u$, and $v$.\n",
        "\n",
        "We'll investigate the computational advantages of this formula in this problem."
      ]
    },
    {
      "cell_type": "markdown",
      "metadata": {
        "id": "hug0ATChlxQ9"
      },
      "source": [
        "## Part c\n",
        "\n",
        "For each $n \\in \\{50, 100, 200, 400, 800, 1600, 3200\\}$:\n",
        "* Generate $10$ sets of random vectors $u,v, b \\in \\mathbf{R}^n$.\n",
        "* For each set of vectors solve the linear system $(I + uv^T)x = b$ using:\n",
        "    * the **solve** function from **Numpy**.\n",
        "    * the **Sherman-Morrison formula**.\n",
        "\n",
        "Record the run-time needed to solve each problem instance using each linear system solver, and plot average run-time as a function of $n$ using a log-log scale. Comment on the shape of these run-time curves and relate these plots to the approximate number of flops needed to solve each problem instance using each solver.\n"
      ]
    },
    {
      "cell_type": "markdown",
      "metadata": {
        "id": "qrZLtqhAlxQ9"
      },
      "source": [
        "### Hint\n",
        "\n",
        "You can use the function **numpy.outer** to calculate the rank-one matrix $u v^T$."
      ]
    },
    {
      "cell_type": "code",
      "source": [
        "#geberating random vectors of size n\n",
        "def gen(n):\n",
        "  u=np.random.rand(n)\n",
        "  v=np.random.rand(n)\n",
        "  b=np.random.rand(n)\n",
        "  return u,v,b"
      ],
      "metadata": {
        "id": "rvAjQAmkP0pR"
      },
      "execution_count": 17,
      "outputs": []
    },
    {
      "cell_type": "code",
      "source": [
        "n_vec=[50,100,200,400,800,1600,3200]\n",
        "from time import perf_counter\n",
        "sher_time=np.zeros((7,10))\n",
        "solv_time=np.zeros((7,10))\n",
        "for j in range(len(n_vec)):\n",
        "  for i in range(10):\n",
        "    u,v,b=gen(n_vec[j])\n",
        "    A=np.identity(n_vec[j])+np.outer(u,v)\n",
        "    #storing time for the first method (solve)\n",
        "    t_start = perf_counter()\n",
        "    x=np.linalg.solve(A,b)\n",
        "    t_stop = perf_counter()\n",
        "    solv_time[j][i]=t_stop-t_start\n",
        "    #storing time for the second method (S_M formula)\n",
        "\n",
        "    t_start=perf_counter()\n",
        "    x=np.matmul((np.identity(n_vec[j])-np.outer(u,v))/(1+np.inner(v,u)),b)\n",
        "    t_stop=perf_counter()\n",
        "    sher_time[j][i]=t_stop-t_start\n"
      ],
      "metadata": {
        "id": "Szb3mLfsTNFr"
      },
      "execution_count": 18,
      "outputs": []
    },
    {
      "cell_type": "code",
      "source": [
        "sher_time_av=np.mean(sher_time,1)\n",
        "solv_time_av=np.mean(solv_time,1)"
      ],
      "metadata": {
        "id": "T3ghqn1pa9aR"
      },
      "execution_count": 19,
      "outputs": []
    },
    {
      "cell_type": "code",
      "source": [
        "#plotting and comparison\n",
        "import matplotlib.pyplot as plt\n",
        "plt.xscale(\"log\")\n",
        "plt.yscale(\"log\")\n",
        "plt.plot(n_vec,solv_time_av, color=\"r\", label=\"solve method\")\n",
        "plt.plot(n_vec,sher_time_av, color=\"b\", label=\"S-M formula\")\n",
        "plt.xlabel(\"size n\")\n",
        "plt.ylabel(\"time to solve\")\n",
        "plt.title(\"Solving Linear System\")\n",
        "plt.legend()\n",
        "plt.show()"
      ],
      "metadata": {
        "colab": {
          "base_uri": "https://localhost:8080/",
          "height": 299
        },
        "id": "PEYI9juybLFW",
        "outputId": "cc888c47-e9c6-403f-fe92-641678604d37"
      },
      "execution_count": 20,
      "outputs": [
        {
          "output_type": "display_data",
          "data": {
            "text/plain": [
              "<Figure size 432x288 with 1 Axes>"
            ],
            "image/png": "[encoded data removed]"
          },
          "metadata": {
            "needs_background": "light"
          }
        }
      ]
    }
  ],
  "metadata": {
    "kernelspec": {
      "display_name": "Python 3.9.13 ('base')",
      "language": "python",
      "name": "python3"
    },
    "language_info": {
      "codemirror_mode": {
        "name": "ipython",
        "version": 3
      },
      "file_extension": ".py",
      "mimetype": "text/x-python",
      "name": "python",
      "nbconvert_exporter": "python",
      "pygments_lexer": "ipython3",
      "version": "3.9.13"
    },
    "orig_nbformat": 4,
    "vscode": {
      "interpreter": {
        "hash": "40d3a090f54c6569ab1632332b64b2c03c39dcf918b08424e98f38b5ae0af88f"
      }
    },
    "colab": {
      "provenance": []
    }
  },
  "nbformat": 4,
  "nbformat_minor": 0
}