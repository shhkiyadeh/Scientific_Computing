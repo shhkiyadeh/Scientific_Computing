{
  "cells": [
    {
      "cell_type": "markdown",
      "metadata": {
        "id": "f1IPBtbUbry_"
      },
      "source": [
        "# **Assignment 2 Sanaz(Math 537, Fall 2022)**"
      ]
    },
    {
      "cell_type": "markdown",
      "source": [
        "# Sanaz Hami Hassan Kiyadeh\n",
        "# shkiyadeh@crimson.ua.edu"
      ],
      "metadata": {
        "id": "0okEp57RnR-i"
      }
    },
    {
      "cell_type": "markdown",
      "metadata": {
        "id": "hysyuTLPk22W"
      },
      "source": [
        "# Problem 2\n",
        "\n",
        "\n",
        "\n"
      ]
    },
    {
      "cell_type": "markdown",
      "metadata": {
        "id": "vVDJR9tkb78N"
      },
      "source": [
        "## Part c\n",
        "\n",
        "Write a Python script to use your expression from Part~(b) to evaluate $f(0.001)$ to $8$ significant digits.\n",
        "\n",
        "\n"
      ]
    },
    {
      "cell_type": "code",
      "source": [
        "# Evaluate using while loop.\n",
        "import math\n",
        "# Initialize i.\n",
        "i = 1\n",
        "# Define x.\n",
        "x = 0.001\n",
        "f_1 = 0\n",
        "# Print header for the output table.\n",
        "print(\"%+5s | %-10s | %-15s\" %(\"i\", \"While loop\", \"Explicit Formula\"))\n",
        "print(\"=========================================================\")\n",
        "\n",
        "while (i <= 8):\n",
        "    f_1 += ((2**i)/math.factorial(i))*x**(i-1)\n",
        "    # increment i.\n",
        "    i += 1\n",
        "# Evaluate f explicitely.\n",
        "x = 0.001\n",
        "a = math.e**(2*x) - 1\n",
        "b = x\n",
        "f_2 = a/b\n",
        "print(\"%5d | %1.8f | %1.8f\" %(i,f_1,f_2))\n",
        "print(\"The value to 8 significant digits is %1.7f\" %f_1)\n",
        "\n"
      ],
      "metadata": {
        "colab": {
          "base_uri": "https://localhost:8080/",
          "height": 0
        },
        "id": "epZH0Jw_N-26",
        "outputId": "5cd3874f-3d46-4841-b697-ef54a50f6a36"
      },
      "execution_count": 8,
      "outputs": [
        {
          "output_type": "stream",
          "name": "stdout",
          "text": [
            "    i | While loop | Explicit Formula\n",
            "=========================================================\n",
            "    9 | 2.00200133 | 2.00200133\n",
            "The value to 8 significant digits is 2.0020013\n"
          ]
        }
      ]
    },
    {
      "cell_type": "markdown",
      "source": [
        "We compared the value of f calculated by the while loop to the value of f calculated by the explicit formula both at $x=0.001$ to the 8 significant digits which is 2.0020013 (using %1.7f in the last line)."
      ],
      "metadata": {
        "id": "o7uvyx7gNYy2"
      }
    },
    {
      "cell_type": "code",
      "source": [
        "# Evaluate using for loop.\n",
        "import math\n",
        "# Initialize n.\n",
        "n = 1\n",
        "# Define x.\n",
        "x = 0.001\n",
        "# Evaluate f\n",
        "f = 0\n",
        "# Print header for the output table.\n",
        "print(\"%+5s | %-10s | %-15s\" %(\"i\", \"For loop\", \"Explicit Formula\"))\n",
        "print(\"=========================================================\")\n",
        "for i in range(1,7):\n",
        "  f += ((2**i)/math.factorial(i))*x**(i-1)\n",
        "# Evaluate f explicitely.\n",
        "x = 0.001\n",
        "a = math.e**(2*x) - 1\n",
        "b = x\n",
        "f_2 = a/b\n",
        "print(\"%5d | %1.8f | %1.8f\" %(i,f,f_2))\n",
        "print(\"The value to 8 significant digits is %1.7f\" %f)\n"
      ],
      "metadata": {
        "colab": {
          "base_uri": "https://localhost:8080/",
          "height": 0
        },
        "id": "T64FaoDhUY1q",
        "outputId": "b5c72a01-36dc-471a-b2da-bc959fb416c9"
      },
      "execution_count": 7,
      "outputs": [
        {
          "output_type": "stream",
          "name": "stdout",
          "text": [
            "    i | For loop   | Explicit Formula\n",
            "=========================================================\n",
            "    6 | 2.00200133 | 2.00200133\n",
            "The value to 8 significant digits is 2.0020013\n"
          ]
        }
      ]
    },
    {
      "cell_type": "markdown",
      "source": [
        "We campared the value of f calculated by the for loop to the value of f calculated by the explicit formula both at $x=0.001$ to the 8 significant digits which is 2.0020013 (using %1.7f in the last line)."
      ],
      "metadata": {
        "id": "RrpI-MCaNz-N"
      }
    },
    {
      "cell_type": "markdown",
      "metadata": {
        "id": "e6q8t0bhcqGo"
      },
      "source": [
        "# Problem 3"
      ]
    },
    {
      "cell_type": "markdown",
      "metadata": {
        "id": "ntFIDgiRdh5N"
      },
      "source": [
        "## Part a\n",
        "\n",
        "Write two Python scripts, one using while loops and one using for loops, for calculating the sum\n",
        "$$\n",
        "        \\sum^n_{k=1} k^2.\n",
        "$$\n",
        "Compare the results of each of your calculations with the formula\n",
        "$$\n",
        "    \\sum^n_{k=1} k^2 = \\frac{n(n+1)(2n + 1)}{6}\n",
        "$$\n",
        "using $n = 10$."
      ]
    },
    {
      "cell_type": "code",
      "source": [
        "# Evaluating the sum using while loop.\n",
        "# Initialize n.\n",
        "n = 1\n",
        "sum_1 = 0\n",
        "# Print header for the output table.\n",
        "print(\"%+5s | %-s | %-s\" %(\"n\", \"While loop\", \"Explicit Formula\"))\n",
        "print(\"=========================================================\")\n",
        "\n",
        "# Start loop.\n",
        "while (n <= 10):\n",
        "  # Calculate sum_1\n",
        "  sum_1 += n**2\n",
        "  # Calculate the sum using explicit formula\n",
        "  # Incerement n\n",
        "  n += 1\n",
        "# Calculate the sum using explicit formula\n",
        "n=10  \n",
        "sum_3 = (n*(n + 1)*(2*n+1))/6\n",
        "print(\"%5d | %-10d | %-10d\" %(n,sum_1, sum_3))\n",
        "\n",
        "print(\"The value obtained by the while loop is %d\" %sum_1)\n",
        "print(\"The value obtained by the explicit formula is %d\" %sum_3)"
      ],
      "metadata": {
        "colab": {
          "base_uri": "https://localhost:8080/",
          "height": 0
        },
        "id": "Du59mIY4XT0O",
        "outputId": "d22a8da4-219c-4257-cc12-f474aeb6b548"
      },
      "execution_count": 6,
      "outputs": [
        {
          "output_type": "stream",
          "name": "stdout",
          "text": [
            "    n | While loop | Explicit Formula\n",
            "=========================================================\n",
            "   10 | 385        | 385       \n",
            "The value obtained by the while loop is 385\n",
            "The value obtained by the explicit formula is 385\n"
          ]
        }
      ]
    },
    {
      "cell_type": "code",
      "source": [
        "# Evaluating the sum using for loop.\n",
        "sum_2 = 0\n",
        "# Print header for the output table.\n",
        "print(\"%+5s | %s | %s\" %(\"n\", \"For loop\", \"Explicit Formula\"))\n",
        "print(\"=========================================================\")\n",
        "for i in range(1,11):\n",
        "  sum_2 += i**2\n",
        "\n",
        "# Calculate the sum using explicit formula\n",
        "n=10  \n",
        "sum_3 = (n*(n + 1)*(2*n+1))/6\n",
        "print(\"%5d | %-8d | %-10d\" %(n,sum_2, sum_3))\n",
        "\n",
        "print(\"The value obtained by the for loop is %d\" %sum_2)\n",
        "print(\"The value obtained by the explicit formula is %d\" %sum_3)\n",
        "\n"
      ],
      "metadata": {
        "colab": {
          "base_uri": "https://localhost:8080/",
          "height": 0
        },
        "id": "dQwZQfbbcFBg",
        "outputId": "2ed915a2-e6d2-498f-bb22-43ec66a43604"
      },
      "execution_count": 5,
      "outputs": [
        {
          "output_type": "stream",
          "name": "stdout",
          "text": [
            "    n | For loop | Explicit Formula\n",
            "=========================================================\n",
            "   10 | 385      | 385       \n",
            "The value obtained by the for loop is 385\n",
            "The value obtained by the explicit formula is 385\n"
          ]
        }
      ]
    },
    {
      "cell_type": "markdown",
      "metadata": {
        "id": "vXukUgnSkcOg"
      },
      "source": [
        "## Part b\n",
        "\n",
        "Repeat for the sum\n",
        "$$\n",
        "        \\sum_{k=1}^n \\frac{1}{3^k}.\n",
        "$$\n",
        "Compare the values calculated by your two loops with value given by the formula\n",
        "$$\n",
        "        \\sum_{k=1}^n \\frac{1}{3^k} = \\frac{1}{2}\\left(1- \\frac{1}{3^n} \\right)\n",
        "$$\n",
        "for $n = 8$."
      ]
    },
    {
      "cell_type": "code",
      "source": [
        "# Evaluating formula using while loop.\n",
        "n = 1\n",
        "sum = 0\n",
        "# Print header for the output table.\n",
        "print(\"%+5s | %-18s | %-21s\" %(\"n\", \"While loop\", \"Explicit Formula\"))\n",
        "print(\"=========================================================\")\n",
        "while (n <= 8):\n",
        "  sum += 1/3**n\n",
        "  # incerement n.\n",
        "  n += 1\n",
        "# Evaluate the sum using the explicit formula.\n",
        "n = 8\n",
        "sum_3 = 0.5*(1 - (1/3**n))\n",
        "print(\"%5d | %1.16f | %1.16f\" %(n,sum, sum_3))\n",
        "print(\"The value obtained by the while loop is %1.16f\" %sum)\n",
        "print(\"The value obtained by the explicit formula is %1.16f\" %sum_3)\n"
      ],
      "metadata": {
        "colab": {
          "base_uri": "https://localhost:8080/",
          "height": 0
        },
        "id": "hDJbtY1QeXmR",
        "outputId": "3d32628e-98ac-40cd-dee2-1aa40b41cbdc"
      },
      "execution_count": 4,
      "outputs": [
        {
          "output_type": "stream",
          "name": "stdout",
          "text": [
            "    n | While loop         | Explicit Formula     \n",
            "=========================================================\n",
            "    8 | 0.4999237921048620 | 0.4999237921048620\n",
            "The value obtained by the while loop is 0.4999237921048620\n",
            "The value obtained by the explicit formula is 0.4999237921048620\n"
          ]
        }
      ]
    },
    {
      "cell_type": "code",
      "source": [
        "# Evaluating formula using for loop.\n",
        "sum = 0\n",
        "# Print header for the output table.\n",
        "print(\"%+5s | %-21s | %-21s\" %(\"n\", \"For loop\", \"Explicit Formula\"))\n",
        "print(\"=========================================================\")\n",
        "for i in range(1,9):\n",
        "  sum += 1/3**i\n",
        "# Evaluate the sum using the explicit formula.\n",
        "n = 8\n",
        "sum_3 = 0.5*(1 - (1/3**n))\n",
        "print(\"%5d | %1.16f | %1.16f\" %(n,sum, sum_3))\n",
        "print(\"The value obtained by the for loop is %1.16f\" %sum)\n",
        "print(\"The value obtained by the explicit formula is %1.16f\" %sum_3)\n"
      ],
      "metadata": {
        "colab": {
          "base_uri": "https://localhost:8080/",
          "height": 0
        },
        "id": "-sSKy04CfgFS",
        "outputId": "e0cc60f4-fdcf-487b-b6fb-8962ce360e21"
      },
      "execution_count": 3,
      "outputs": [
        {
          "output_type": "stream",
          "name": "stdout",
          "text": [
            "    n | For loop              | Explicit Formula     \n",
            "=========================================================\n",
            "    8 | 0.4999237921048620 | 0.4999237921048620\n",
            "The value obtained by the for loop is 0.4999237921048620\n",
            "The value obtained by the explicit formula is 0.4999237921048620\n"
          ]
        }
      ]
    }
  ],
  "metadata": {
    "colab": {
      "collapsed_sections": [],
      "provenance": []
    },
    "kernelspec": {
      "display_name": "Python 3.9.12 ('base')",
      "language": "python",
      "name": "python3"
    },
    "language_info": {
      "name": "python",
      "version": "3.9.12"
    },
    "vscode": {
      "interpreter": {
        "hash": "11a4eacee6ffa102e6320921cb3802377ef624adc48c2e3ccd934fa4c5d9951f"
      }
    }
  },
  "nbformat": 4,
  "nbformat_minor": 0
}