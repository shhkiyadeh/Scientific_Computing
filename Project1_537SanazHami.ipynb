{
  "cells": [
    {
      "cell_type": "markdown",
      "metadata": {
        "id": "LTvUam0KLemU"
      },
      "source": [
        "# **Project 1: The Power Method for Symmetric Eigenproblems**\n",
        "## Math 537: Introduction to Scientific Computing and Problem Solving\n",
        "# Name: Sanaz Hami Hassan Kiyadeh , shkiyadeh@crimson.ua.edu\n",
        "Due Tuesday October 25, 2022 at 5pm"
      ]
    },
    {
      "cell_type": "markdown",
      "metadata": {
        "id": "nJg6OT_uNOfZ"
      },
      "source": [
        "# Background"
      ]
    },
    {
      "cell_type": "markdown",
      "metadata": {
        "id": "NC3eEecCLv0y"
      },
      "source": [
        "## The Symmetric Eigenproblem\n",
        "\n",
        "A matrix $A$ is symmetric if it is equal to its transpose: $A = A^T$. One nice properties of symmetric matrices is that they have real eigenvalues. More precisely, for any $n\\times n$ symmetric matrix $A$, there are $n$ linearly independent eigenvectors $u_1, u_2, \\dots, u_n$ and corresponding eigenvalues $\\lambda_1, \\lambda_2, \\dots, \\lambda_n$ such that \n",
        "$$\n",
        "  A u_i = \\lambda u_i\n",
        "$$\n",
        "for all $i = 1,2,\\dots, n$.\n",
        "In fact, we can assume that these eigenvectors are *orthonormal*:\n",
        "$$\n",
        "  u_i^T u_j = \n",
        "  \\begin{cases}\n",
        "    1, & \\text{if } i = j, \\\\\n",
        "    0, & \\text{if } i \\neq j.\n",
        "  \\end{cases}\n",
        "$$"
      ]
    },
    {
      "cell_type": "markdown",
      "metadata": {
        "id": "WV4NZiUhJk79"
      },
      "source": [
        "## The Power Method"
      ]
    },
    {
      "cell_type": "markdown",
      "metadata": {
        "id": "icGeNdusNRJj"
      },
      "source": [
        "\n",
        "\n",
        "### Motivation\n",
        "\n",
        "Suppose that we can order the eigenvalues of symmetric $A$ in decreasing order by magnitude and that the largest magnitude eigenvalue is unique:\n",
        "$$\n",
        "  |\\lambda_1| > |\\lambda_2| \\ge |\\lambda_3 | \\ge \\cdots \\ge |\\lambda_n|.\n",
        "$$\n",
        "\n",
        "Let's take a closer look at the product $A x$ for an arbitrary $x \\in \\mathbb{R}^n$. Since the eigenvectors are independent/orthonormal, we can use them to form a basis for $\\mathbb{R}^n$:\n",
        "$$\n",
        "  x = a_1 u_1 + a_2 u_2 + \\cdots a_n u_n\n",
        "$$\n",
        "for some $a \\in \\mathbb{R}^n$.\n",
        "It follows that\n",
        "$$\n",
        "  Ax = A(a_1 u_1 + a_2 u_2 + \\cdots a_n u_n)\n",
        "  = a_1 (\\lambda_1 u_1) + a_2 (\\lambda_2 u_2) + \\cdots + a_n (\\lambda_n u_n).\n",
        "$$\n",
        "Multiplying again on the left by $A$ gives\n",
        "$$\n",
        "  A^2 x = A \\Big(a_1 (\\lambda_1 u_1) + a_2 (\\lambda_2 u_2) + \\cdots + a_n (\\lambda_n u_n) \\Big)\n",
        "  = a_1 \\lambda_1^2 u_1 + a_2 \\lambda_2^2 u_2 + \\cdots + a_n \\lambda_n^2 u_n.\n",
        "$$\n",
        "In general,\n",
        "$$\n",
        "  A^k x = a_1 \\lambda_1^k u_1 + a_2 \\lambda_2^k u_2 + \\cdots + a_n \\lambda_n^k u_n\n",
        "  = \\lambda_1^k \\left( a_1 u_1 + a_2 \\frac{\\lambda_2^k}{\\lambda_1^k} u_2 + \\cdots + a_n \\frac{\\lambda_n^k}{\\lambda_1^k} u_n \\right).\n",
        "$$\n",
        "Taking the limit as $k \\rightarrow \\infty$, we have \n",
        "$$\n",
        "  \\frac{\\lambda_i^k}{\\lambda_1^k} \\rightarrow 0 \\hspace{0.25in} \\text{and}\n",
        "  \\hspace{0.25in}\n",
        "  A^k x \\rightarrow u_1.\n",
        "$$\n",
        "This implies that if we repeatedly multiply $x$ by $A$, then the result converges to the *dominant* or *leading eigenvector* $u_1$. \n",
        "Moreover, since\n",
        "$$\n",
        "  \\lambda_1 (A^k x) \\rightarrow \\lambda_1 u_1,\n",
        "$$\n",
        "we can obtain an approximate eigenvalue $r$, tending to $\\lambda_1$, by the formula\n",
        "$$\n",
        "  r = \\frac{[A^k x]_1}{[A^{k-1} x]_1},\n",
        "$$\n",
        "where $[A^k x]_1$ denotes the first entry of the vector $A^k x$; here, the result is true for any index."
      ]
    },
    {
      "cell_type": "markdown",
      "metadata": {
        "id": "ech_4KC7PoKU"
      },
      "source": [
        "### Pseudocode\n",
        "\n",
        "The above motivation suggests the following algorithm, called the **Power Method**:\n",
        "\n",
        "**Input:** symmetric matrix **A**, initial vector **x**, maximum number of iterations **maxits**, stopping tolerance **tol**.\n",
        "\n",
        "**Output:** number of iterations performed **k**, approximate dominant eigenvector **x**, approximate dominant eigenvalue **r**.\n",
        "\n",
        "**The Algorithm:**\n",
        "\n",
        "while not converged and $k \\le \\textbf{maxits}$:\n",
        "*   Update product $y = A x$\n",
        "*   Update approximate eigenvalue $r_k = y_1/x_1$.\n",
        "* Update/normalize $x = y/\\|y\\|_\\infty$\n",
        "* Check for convergence (stop if $r_k$ has converged):\n",
        "$$\n",
        "  \\frac{|r_k - r_{k-1}|}{|r_k|} < \\textbf{tol}.\n",
        "$$\n",
        "\n",
        "\n",
        "Here, $\\|y\\|_\\infty$ is the max-norm or infinity norm of $y$ given by \n",
        "$$\n",
        "  \\|y\\|_\\infty = \\max_{i=1,2,\\dots, n} |y_i|.\n",
        "$$\n",
        "\n",
        "\n",
        "\n",
        "\n"
      ]
    },
    {
      "cell_type": "markdown",
      "metadata": {
        "id": "VOdJyftENMoY"
      },
      "source": [
        "### Aitken Acceleration"
      ]
    },
    {
      "cell_type": "markdown",
      "metadata": {
        "id": "jihiJZR6JrEf"
      },
      "source": [
        "The sequence of iterates tending to the dominant eigenvector $u_1$ generated by the Power Method tends to converge more quickly than the sequence of the eigenvalue iterates $\\{r_i\\}$. \n",
        "\n",
        "*Aitken Acceleration* is used to speed up the convergence of the eigenvalues, by using the following formula as the approximation of $\\lambda_1$ each iteration:\n",
        "\\begin{align*}\n",
        "    s_k &= r_k, && k = 0, 1, 2 \\\\\n",
        "    s_k &= r_k - \\frac{(r_k - r_{k-1})^2}{r_k - 2 r_{k-1} + r_{k-2}}, && k \\ge 3\n",
        "\\end{align*} \n",
        "\n",
        "This yields the following (modified) Power Method:\n",
        "\n",
        "while not converged and $k \\le \\textbf{maxits}$:\n",
        "*   Update product $y = A x$\n",
        "*   Update approximate eigenvalue $r_k = y_1/x_1$.\n",
        "* Calculate $s_k$.\n",
        "* Update/normalize $x = y/\\|y\\|_\\infty$\n",
        "* Check for convergence (stop if $s_k$ has converged):\n",
        "$$\n",
        "  \\frac{|s_k - s_{k-1}|}{|s_k|} < \\textbf{tol}.\n",
        "$$\n",
        "\n",
        "Note that this algorithm is the original Power Method with an additional step used to calculate $s_k$ and with stopping condition involving $s_k$ to determine if the sequence has converged.\n",
        "\n",
        "Review the [Aitken acceleration](https://en.wikipedia.org/wiki/Aitken%27s_delta-squared_process) wiki for more details.\n"
      ]
    },
    {
      "cell_type": "markdown",
      "metadata": {
        "id": "OyyeKLK64MW9"
      },
      "source": [
        "# The Assignment"
      ]
    },
    {
      "cell_type": "markdown",
      "metadata": {
        "id": "tqMOTGMzSqQ_"
      },
      "source": [
        "## Part 1: Implementing the Power Method\n",
        "\n",
        "Make Python functions for performing the Power Method: \n",
        "\n",
        "1.   one using the code written in class for matrix multiplication.\n",
        "2.   one using the matrix multiplication function in Numpy (**matmul**)\n",
        "\n",
        "Your function should take matrix $A$, initial vector $x$, maximum number of iterations, and stopping tolerance and perform the steps of the pseudocode given above.\n",
        "The functions should return the number of iterations performed ($k$), the approximate dominant eigenvector, and a vector of iterates of the approximate eigenvalues $r = (r_1, r_2, \\dots, r_k)$ (You'll need to add some additional code/syntax for updating the counter $k$, initializing $r$, etc.)\n"
      ]
    },
    {
      "cell_type": "markdown",
      "metadata": {
        "id": "vGYHrOd3zgoa"
      },
      "source": [
        "### Hints\n",
        "\n",
        "* You will need to initialize an array of appropriate size to store $r$ (e.g., using the **np.zeros** function). When the sequence of iterates has converged, you should discard any entries of the array that haven't been changed from $0$.\n",
        "* You should use an if statement do check for convergence. I suggest initializing a conditional variable and use its value to determine whether to continue the loop. You will also need to be careful to only check the convergence condition for $k \\ge 1$.\n",
        "* You can modify the code we used for matrix multiplication using nested lists."
      ]
    },
    {
      "cell_type": "markdown",
      "metadata": {
        "id": "Op2YSD0HUa47"
      },
      "source": [
        "### Solution"
      ]
    },
    {
      "cell_type": "code",
      "source": [
        "#the function returns the multiplication of an n*n matrix by an n*1 vector\n",
        "import numpy as np\n",
        "def matvecmul(A,x):\n",
        "  n=len(x)\n",
        "  prod=np.zeros(n)\n",
        "  for i in range(n):\n",
        "    sum=0\n",
        "    for j in range(n):\n",
        "      sum+=A[i][j]*x[j]\n",
        "    prod[i]=sum  \n",
        "  return prod"
      ],
      "metadata": {
        "id": "-uBSa_NVVwjv"
      },
      "execution_count": 1,
      "outputs": []
    },
    {
      "cell_type": "code",
      "source": [
        "def Powermethod1(A,x,maxits,tol):\n",
        "  k=0 #iteration counter \n",
        "  r=[]\n",
        "  err=1\n",
        "  while k<maxits and err>tol:\n",
        "    y=matvecmul(A,x)\n",
        "    r_new=y[0]/x[0]\n",
        "    x=y/max(np.abs(y))\n",
        "    r.append(r_new)\n",
        "    if k>0:\n",
        "      err=np.abs(r_new-r[k-1])/np.abs(r_new)\n",
        "    k+=1  \n",
        "  return k, x,r ,err   \n",
        "\n",
        "\n"
      ],
      "metadata": {
        "id": "ETWDxFhAVaNI"
      },
      "execution_count": 2,
      "outputs": []
    },
    {
      "cell_type": "code",
      "source": [
        "#testin our function\n",
        "A=[[1,2],[3,4]]\n",
        "x=[1,2]\n",
        "Powermethod1(A,x,10,1e-5)"
      ],
      "metadata": {
        "colab": {
          "base_uri": "https://localhost:8080/"
        },
        "id": "XFewEX5abux6",
        "outputId": "d0ff21d3-0e28-40ed-bd82-d14780581769"
      },
      "execution_count": 3,
      "outputs": [
        {
          "output_type": "execute_result",
          "data": {
            "text/plain": [
              "(6,\n",
              " array([0.45742711, 1.        ]),\n",
              " [5.0,\n",
              "  5.4,\n",
              "  5.37037037037037,\n",
              "  5.372413793103448,\n",
              "  5.37227214377407,\n",
              "  5.372281959378733],\n",
              " 1.8270829300298155e-06)"
            ]
          },
          "metadata": {},
          "execution_count": 3
        }
      ]
    },
    {
      "cell_type": "code",
      "source": [
        "def Powermethod2(A,x,maxits,tol):\n",
        "  k=0 #iteration counter \n",
        "  r=[]\n",
        "  err=1\n",
        "  while k<maxits and err>tol:\n",
        "    y=np.matmul(A,x)\n",
        "    r_new=y[0]/x[0]\n",
        "    x=y/max(np.abs(y))\n",
        "    r.append(r_new)\n",
        "    if k>0:\n",
        "      err=np.abs(r_new-r[k-1])/np.abs(r_new)\n",
        "    k+=1  \n",
        "  return k, x,r ,err   "
      ],
      "metadata": {
        "id": "J6hVizoKbMxz"
      },
      "execution_count": 4,
      "outputs": []
    },
    {
      "cell_type": "code",
      "source": [
        "#testing our function\n",
        "A=[[1,2],[3,4]]\n",
        "x=[1,2]\n",
        "Powermethod2(A,x,10,1e-5)"
      ],
      "metadata": {
        "colab": {
          "base_uri": "https://localhost:8080/"
        },
        "id": "ylKVr2JhbzuP",
        "outputId": "33648b11-32c7-4738-b83f-c4829a8395bc"
      },
      "execution_count": 5,
      "outputs": [
        {
          "output_type": "execute_result",
          "data": {
            "text/plain": [
              "(6,\n",
              " array([0.45742711, 1.        ]),\n",
              " [5.0,\n",
              "  5.4,\n",
              "  5.37037037037037,\n",
              "  5.372413793103448,\n",
              "  5.37227214377407,\n",
              "  5.372281959378733],\n",
              " 1.8270829300298155e-06)"
            ]
          },
          "metadata": {},
          "execution_count": 5
        }
      ]
    },
    {
      "cell_type": "markdown",
      "metadata": {
        "id": "jB8fAPPY_ki9"
      },
      "source": [
        "## Part 2: Implementing the Aitken Acceleration Formula\n",
        "\n",
        "Write a Python function implementing the Power Method with the Aitken acceleration formula. Your function should behave similarly to that for the first version of the Power Method but with an array **s** of approximate eigenvalues given by the acceleration formula."
      ]
    },
    {
      "cell_type": "markdown",
      "metadata": {
        "id": "ioYWIPVZzgoh"
      },
      "source": [
        "### Hints\n",
        "\n",
        "* You'll need to modify one of your functions from the previous part to include updates of $s$. I suggest the version using the **matmul** function.\n",
        "* You'll need to use a conditional to determine which update formula to use for $s_k$ depending on the value of $k$."
      ]
    },
    {
      "cell_type": "markdown",
      "metadata": {
        "id": "7yHwIpei4VZt"
      },
      "source": [
        "### Solution\n",
        "\n"
      ]
    },
    {
      "cell_type": "code",
      "source": [
        "def AitkenPM(A,x,maxits,tol):\n",
        "  k=0 #iteration counter \n",
        "  r=[]\n",
        "  s=[]\n",
        "  err=1\n",
        "  while k<maxits and err>tol:\n",
        "    if k==0:\n",
        "      y=np.matmul(A,x)\n",
        "      r_new=y[0]/x[0]\n",
        "      x=y/max(np.abs(y))\n",
        "      r.append(r_new)\n",
        "      s.append(r_new)\n",
        "    elif k>0 and k<=3:\n",
        "      y=np.matmul(A,x)\n",
        "      r_new=y[0]/x[0]\n",
        "      x=y/max(np.abs(y))\n",
        "      r.append(r_new)\n",
        "      s.append(r_new)\n",
        "      err=np.abs(r_new-r[k-1])/np.abs(r_new)\n",
        "    else:\n",
        "      y=np.matmul(A,x)\n",
        "      r_new=y[0]/x[0]\n",
        "      x=y/max(np.abs(y))\n",
        "      r.append(r_new)  \n",
        "      s_new=r_new- ((r_new-r[k-1])**2/(r_new-2*r[k-1]+r[k-2]))\n",
        "      s.append(s_new)\n",
        "      err=np.abs(s_new-s[k-1])/np.abs(s_new)\n",
        "    k+=1  \n",
        "  return k, x,r ,err \n",
        "\n"
      ],
      "metadata": {
        "id": "aeyG7W1mct7U"
      },
      "execution_count": 6,
      "outputs": []
    },
    {
      "cell_type": "markdown",
      "metadata": {
        "id": "xxrV4lio4R56"
      },
      "source": [
        "## Part 3: Testing the Functions\n",
        "\n"
      ]
    },
    {
      "cell_type": "markdown",
      "metadata": {
        "id": "wiX8VH0f4ex_"
      },
      "source": [
        "### Plotting Convergence\n",
        "\n",
        "Consider the matrix $A$ and vector $x$ given by\n",
        "$$\n",
        "  A =  \\left(\n",
        "    \\begin{matrix}\n",
        "      100 & 1 & -1 \\\\ 1 & 99 & 2 \\\\ -1 & 2 & 98\n",
        "    \\end{matrix}\n",
        "    \\right)\n",
        "    \\hspace{0.25in}\n",
        "  x = \\left(\n",
        "    \\begin{matrix} \n",
        "    2 \\\\ 3 \\\\ 1\n",
        "    \\end{matrix}\n",
        "    \\right).\n",
        "$$\n",
        "* Use each of the three functions written in Parts 1 and 2 to use the Power Method to find the dominant eigenpair of $A$. Use the given vector $x$ as initial solution.\n",
        "* Use maximum number of iterations equal to $5000$ and stopping tolerance $10^{-12}$. \n",
        "* Report the eigenvalue $\\lambda_1$ found by each of the three functions to 15 decimal places using **%1.15f**.\n",
        "* Plot the sequence of approximate eigenvalues generated by each function, and comment on the behavior of the sequences of iterates. You should use a log-log scale for your plot.\n",
        "\n"
      ]
    },
    {
      "cell_type": "code",
      "source": [
        "A=[[100,1,-1],[1,99,2],[-1,2,98]]\n",
        "x=[2,3,1]\n",
        "tol=1e-12\n",
        "maxits=5000\n",
        "k1,x1,r1,err1=Powermethod1(A,x,maxits,tol)\n",
        "print(k1,x1,r1[k1-1]) #printing the number or iterations, eigenvector and the eigen value"
      ],
      "metadata": {
        "colab": {
          "base_uri": "https://localhost:8080/"
        },
        "id": "fBOuSkmYdM15",
        "outputId": "d97568e0-c4a5-4e99-a312-cd5279245af8"
      },
      "execution_count": 7,
      "outputs": [
        {
          "output_type": "stream",
          "name": "stdout",
          "text": [
            "3852 [0.80193764 1.         0.44504191] 100.69202150177114\n"
          ]
        }
      ]
    },
    {
      "cell_type": "code",
      "source": [
        "import matplotlib.pyplot as plt\n",
        "import numpy as np\n",
        "\n",
        "xpoints = range(k1)\n",
        "ypoints = r1\n",
        "plt.xscale(\"log\")\n",
        "plt.yscale(\"log\")\n",
        "plt.xlabel(\"number of iterations\")\n",
        "plt.ylabel(\"the leading eigenvalue\")\n",
        "plt.plot(xpoints, ypoints, 'o')\n",
        "plt.show()"
      ],
      "metadata": {
        "colab": {
          "base_uri": "https://localhost:8080/",
          "height": 283
        },
        "id": "M6cqPaEMhQF4",
        "outputId": "11bee5f1-e926-41f6-88cb-da6d79dda62f"
      },
      "execution_count": 8,
      "outputs": [
        {
          "output_type": "display_data",
          "data": {
            "text/plain": [
              "<Figure size 432x288 with 1 Axes>"
            ],
            "image/png": "[encoded data removed]"
          },
          "metadata": {
            "needs_background": "light"
          }
        }
      ]
    },
    {
      "cell_type": "code",
      "source": [
        "A=[[100,1,-1],[1,99,2],[-1,2,98]]\n",
        "x=[2,3,1]\n",
        "tol=1e-12\n",
        "maxits=5000\n",
        "k2,x2,r2,err2=Powermethod2(A,x,maxits,tol)\n",
        "print(k2,x2,r2[k2-1]) #printing the number or iterations, eigenvector and the eigen value"
      ],
      "metadata": {
        "colab": {
          "base_uri": "https://localhost:8080/"
        },
        "id": "XyaVm7A7Wpz7",
        "outputId": "22fb710e-73ad-4a67-9310-d4d6b38b9a2a"
      },
      "execution_count": 9,
      "outputs": [
        {
          "output_type": "stream",
          "name": "stdout",
          "text": [
            "3852 [0.80193764 1.         0.44504191] 100.69202150177114\n"
          ]
        }
      ]
    },
    {
      "cell_type": "code",
      "source": [
        "import matplotlib.pyplot as plt\n",
        "import numpy as np\n",
        "\n",
        "xpoints = range(k2)\n",
        "ypoints = r2\n",
        "plt.xscale(\"log\")\n",
        "plt.yscale(\"log\")\n",
        "plt.xlabel(\"log number of iterations\")\n",
        "plt.ylabel(\"log leading eigenvalue\")\n",
        "plt.plot(xpoints, ypoints, 'o')\n",
        "plt.show()"
      ],
      "metadata": {
        "colab": {
          "base_uri": "https://localhost:8080/",
          "height": 283
        },
        "id": "z4FEQrdUhJC0",
        "outputId": "0c39eaa3-0a77-420c-a1a6-38800c1c1715"
      },
      "execution_count": 10,
      "outputs": [
        {
          "output_type": "display_data",
          "data": {
            "text/plain": [
              "<Figure size 432x288 with 1 Axes>"
            ],
            "image/png": "[encoded data removed]"
          },
          "metadata": {
            "needs_background": "light"
          }
        }
      ]
    },
    {
      "cell_type": "code",
      "source": [
        "A=[[100,1,-1],[1,99,2],[-1,2,98]]\n",
        "x=[2,3,1]\n",
        "tol=1e-12\n",
        "maxits=5000\n",
        "k3,x3,s,err3=AitkenPM(A,x,maxits,tol)\n",
        "print(k3,x3,s[k3-1]) #printing the number or iterations, eigenvector and the eigen value"
      ],
      "metadata": {
        "colab": {
          "base_uri": "https://localhost:8080/"
        },
        "id": "nkpLzitvae6g",
        "outputId": "ccb839a0-7f61-497e-db48-2fb5e46d6eac"
      },
      "execution_count": 11,
      "outputs": [
        {
          "output_type": "stream",
          "name": "stdout",
          "text": [
            "860 [0.79984445 1.         0.44597347] 100.69267000908059\n"
          ]
        }
      ]
    },
    {
      "cell_type": "code",
      "source": [
        "import matplotlib.pyplot as plt\n",
        "import numpy as np\n",
        "\n",
        "xpoints = range(k3)\n",
        "ypoints = s\n",
        "plt.xscale(\"log\")\n",
        "plt.yscale(\"log\")\n",
        "plt.xlabel(\"log number of iterations\")\n",
        "plt.ylabel(\"log leading eigenvalue\")\n",
        "plt.plot(xpoints, ypoints, 'o')\n",
        "plt.show()"
      ],
      "metadata": {
        "colab": {
          "base_uri": "https://localhost:8080/",
          "height": 283
        },
        "id": "2qA0yQ0XfYlm",
        "outputId": "0439510b-5170-4027-dd8d-c4e621e59cdb"
      },
      "execution_count": 12,
      "outputs": [
        {
          "output_type": "display_data",
          "data": {
            "text/plain": [
              "<Figure size 432x288 with 1 Axes>"
            ],
            "image/png": "[encoded data removed]"
          },
          "metadata": {
            "needs_background": "light"
          }
        }
      ]
    },
    {
      "cell_type": "markdown",
      "metadata": {
        "id": "o43lt4UJ5yal"
      },
      "source": [
        "#### Solution\n",
        "."
      ]
    },
    {
      "cell_type": "markdown",
      "metadata": {
        "id": "e509OSol9WbK"
      },
      "source": [
        "### Plotting Run-Times\n",
        "\n",
        "For each of $n = 2, 4, 8, \\dots, 2048$, perform the following $25$ times:\n",
        "\n",
        "* Generate a random $n\\times n$ symmetric matrix $A$ and random $n$-dimensional vector using the **rand** function from Numpy.\n",
        "* Find the dominant eigenpair of $A$ using the Power Method starting with initial vector $x$. Use each of the Power Methods implemented in Parts 1 and 2.\n",
        "* Record the run-time and number of iterations performed for each method.\n",
        "\n",
        "After performing the Power Method on each of the random matrices for each $n$, calculate the average run-time and number of iterations.\n",
        "Then plot these averages as a function of $n$ using a log-log scale."
      ]
    },
    {
      "cell_type": "markdown",
      "metadata": {
        "id": "M1p2QCcGzgot"
      },
      "source": [
        "#### Hints\n",
        "\n",
        "* You will need to make a $13\\times 25$ matrix to store the run-time and iteration count for each test; here, rows corresponding to the different values of $n$ and columns correspond to the $25$ repetitions. You can initialize this matrix as an $m\\times n$ all-zeros matrix using  **np.zeros((m,n))**.\n",
        "* You can make an $m\\times n$ matrix $B$ with entries randomly sampled from the uniform distribution using **np.random.rand(m,n)**. You can then get a random *symmetric* matrix using $A = B + B^T$; you can use **np.transpose(B)** to take the transpose of the matrix $B$.\n",
        "* You should use the function **perf_counter** to record run-times for each method.\n",
        "* You can calculate the average entry in each row of an array $M$ using the command **np.mean(M, 1)** and each column using **np.mean(M, 0)**.\n",
        "* Be patient while running this experiment. It may take several minutes to complete."
      ]
    },
    {
      "cell_type": "markdown",
      "metadata": {
        "id": "0RF-7CSn-tdE"
      },
      "source": [
        "#### Solution\n",
        "\n"
      ]
    },
    {
      "cell_type": "code",
      "source": [
        "import numpy as np\n",
        "#generation random symmetric matrix and vector\n",
        "def gen(n):\n",
        "  x=np.random.rand(n)\n",
        "  B=np.random.rand(n,n)\n",
        "  A=B+np.transpose(B)\n",
        "  return A,x\n"
      ],
      "metadata": {
        "id": "RrJ70mWDfIk_"
      },
      "execution_count": 13,
      "outputs": []
    },
    {
      "cell_type": "code",
      "source": [
        "#data matrix\n",
        "#iteration matrix\n",
        "Mit1=np.zeros((11,25))\n",
        "#run time matrix\n",
        "Mrun1=np.zeros((11,25))\n"
      ],
      "metadata": {
        "id": "xwEXUbYmn8oq"
      },
      "execution_count": 14,
      "outputs": []
    },
    {
      "cell_type": "code",
      "source": [
        "tol=1e-12\n",
        "maxits=5000\n",
        "from time import perf_counter\n",
        "for i in range(1,12):\n",
        "  n=2**i\n",
        "  for j in range(25):\n",
        "    A,x=gen(n)\n",
        "    t_start = perf_counter()\n",
        "    k,_,_,_=Powermethod1(A,x,maxits,tol)\n",
        "    t_stop = perf_counter()\n",
        "    Mit1[i-1][j]=k\n",
        "    Mrun1[i-1][j]=t_stop-t_start"
      ],
      "metadata": {
        "id": "b9fbca6b0i60"
      },
      "execution_count": 15,
      "outputs": []
    },
    {
      "cell_type": "code",
      "source": [
        "#plot prepration \n",
        "n_vec=[]\n",
        "for i in range(1,12):\n",
        "  n=2**i\n",
        "  n_vec.append(n)\n",
        "\n",
        "it_vec1=np.mean(Mit1,1)\n",
        "time_vec1=np.mean(Mrun1,1)\n"
      ],
      "metadata": {
        "id": "gNDNNrOQ6jMo"
      },
      "execution_count": 16,
      "outputs": []
    },
    {
      "cell_type": "code",
      "source": [
        "import matplotlib.pyplot as plt\n",
        "plt.xscale(\"log\")\n",
        "plt.yscale(\"log\")\n",
        "plt.plot(n_vec,time_vec1, color=\"r\", label=\"n-t\")\n",
        "plt.xlabel(\"size of matrix\")\n",
        "plt.ylabel(\"time\")\n",
        "plt.title(\"Powermethod1\")\n",
        "plt.legend()\n",
        "plt.show()\n"
      ],
      "metadata": {
        "colab": {
          "base_uri": "https://localhost:8080/",
          "height": 299
        },
        "id": "nQflXhB67dju",
        "outputId": "fbbf9eae-7da2-401c-c576-cbb68bf0339b"
      },
      "execution_count": 17,
      "outputs": [
        {
          "output_type": "display_data",
          "data": {
            "text/plain": [
              "<Figure size 432x288 with 1 Axes>"
            ],
            "image/png": "[encoded data removed]"
          },
          "metadata": {
            "needs_background": "light"
          }
        }
      ]
    },
    {
      "cell_type": "code",
      "source": [
        "import matplotlib.pyplot as plt\n",
        "plt.xscale(\"log\")\n",
        "plt.yscale(\"log\")\n",
        "plt.plot(n_vec,it_vec1, color=\"r\", label=\"n-k\")\n",
        "plt.xlabel(\"size of matrix\")\n",
        "plt.ylabel(\"iteration\")\n",
        "plt.title(\"Powermethod1\")\n",
        "plt.legend()\n",
        "plt.show()"
      ],
      "metadata": {
        "colab": {
          "base_uri": "https://localhost:8080/",
          "height": 299
        },
        "id": "uTwPoEQ8EWGI",
        "outputId": "e2099ad4-8ac4-4736-c3b8-04c9c33980e2"
      },
      "execution_count": 18,
      "outputs": [
        {
          "output_type": "display_data",
          "data": {
            "text/plain": [
              "<Figure size 432x288 with 1 Axes>"
            ],
            "image/png": "[encoded data removed]"
          },
          "metadata": {
            "needs_background": "light"
          }
        }
      ]
    },
    {
      "cell_type": "code",
      "source": [
        "#data matrix\n",
        "#iteration matrix\n",
        "Mit2=np.zeros((11,25))\n",
        "#run time matrix\n",
        "Mrun2=np.zeros((11,25))"
      ],
      "metadata": {
        "id": "CIR8t7vIlKVb"
      },
      "execution_count": 19,
      "outputs": []
    },
    {
      "cell_type": "code",
      "source": [
        "tol=1e-12\n",
        "maxits=5000\n",
        "from time import perf_counter\n",
        "for i in range(1,12):\n",
        "  n=2**i\n",
        "  for j in range(25):\n",
        "    A,x=gen(n)\n",
        "    t_start = perf_counter()\n",
        "    k,_,_,_=Powermethod2(A,x,maxits,tol)\n",
        "    t_stop = perf_counter()\n",
        "    Mit2[i-1][j]=k\n",
        "    Mrun2[i-1][j]=t_stop-t_start"
      ],
      "metadata": {
        "id": "91tJF-KqE-SG"
      },
      "execution_count": 20,
      "outputs": []
    },
    {
      "cell_type": "code",
      "source": [
        "#plot prepration \n",
        "\n",
        "\n",
        "it_vec2=np.mean(Mit2,1)\n",
        "time_vec2=np.mean(Mrun2,1)"
      ],
      "metadata": {
        "id": "bqHhvMakFNs8"
      },
      "execution_count": 21,
      "outputs": []
    },
    {
      "cell_type": "code",
      "source": [
        "import matplotlib.pyplot as plt\n",
        "plt.xscale(\"log\")\n",
        "plt.yscale(\"log\")\n",
        "plt.plot(n_vec,time_vec2, color=\"r\", label=\"n-t\")\n",
        "plt.xlabel(\"size of matrix\")\n",
        "plt.ylabel(\"time\")\n",
        "plt.title(\"Powermethod2\")\n",
        "plt.legend()\n",
        "plt.show()"
      ],
      "metadata": {
        "colab": {
          "base_uri": "https://localhost:8080/",
          "height": 299
        },
        "id": "diCqw7G3FU_T",
        "outputId": "242971ce-55ab-418e-984e-6ce5142a91bc"
      },
      "execution_count": 22,
      "outputs": [
        {
          "output_type": "display_data",
          "data": {
            "text/plain": [
              "<Figure size 432x288 with 1 Axes>"
            ],
            "image/png": "[encoded data removed]"
          },
          "metadata": {
            "needs_background": "light"
          }
        }
      ]
    },
    {
      "cell_type": "code",
      "source": [
        "import matplotlib.pyplot as plt\n",
        "plt.xscale(\"log\")\n",
        "plt.yscale(\"log\")\n",
        "plt.plot(n_vec,it_vec2, color=\"r\", label=\"n-k\")\n",
        "plt.xlabel(\"size of matrix\")\n",
        "plt.ylabel(\"iteration\")\n",
        "plt.title(\"Powermethod2\")\n",
        "plt.legend()\n",
        "plt.show()"
      ],
      "metadata": {
        "colab": {
          "base_uri": "https://localhost:8080/",
          "height": 299
        },
        "id": "-acONgxFFcPO",
        "outputId": "626451ea-0597-441a-c185-f26f919c0be9"
      },
      "execution_count": 23,
      "outputs": [
        {
          "output_type": "display_data",
          "data": {
            "text/plain": [
              "<Figure size 432x288 with 1 Axes>"
            ],
            "image/png": "[encoded data removed]"
          },
          "metadata": {
            "needs_background": "light"
          }
        }
      ]
    },
    {
      "cell_type": "code",
      "source": [
        "#data matrix\n",
        "#iteration matrix\n",
        "Mit3=np.zeros((11,25))\n",
        "#run time matrix\n",
        "Mrun3=np.zeros((11,25))"
      ],
      "metadata": {
        "id": "I3r6_eUHll3c"
      },
      "execution_count": 24,
      "outputs": []
    },
    {
      "cell_type": "code",
      "source": [
        "tol=1e-12\n",
        "maxits=5000\n",
        "from time import perf_counter\n",
        "for i in range(1,12):\n",
        "  n=2**i\n",
        "  for j in range(25):\n",
        "    A,x=gen(n)\n",
        "    t_start = perf_counter()\n",
        "    k,_,_,_=AitkenPM(A,x,maxits,tol)\n",
        "    t_stop = perf_counter()\n",
        "    Mit3[i-1][j]=k\n",
        "    Mrun3[i-1][j]=t_stop-t_start"
      ],
      "metadata": {
        "id": "Rwe0iqD8FhP7"
      },
      "execution_count": 27,
      "outputs": []
    },
    {
      "cell_type": "code",
      "source": [
        "\n",
        "\n",
        "it_vec3=np.mean(Mit3,1)\n",
        "time_vec3=np.mean(Mrun3,1)"
      ],
      "metadata": {
        "id": "x6vMBtblF2v6"
      },
      "execution_count": 28,
      "outputs": []
    },
    {
      "cell_type": "code",
      "source": [
        "import matplotlib.pyplot as plt\n",
        "plt.xscale(\"log\")\n",
        "plt.yscale(\"log\")\n",
        "plt.plot(n_vec,time_vec3, color=\"r\", label=\"n-t\")\n",
        "plt.xlabel(\"size of matrix\")\n",
        "plt.ylabel(\"time\")\n",
        "plt.title(\"Aitken\")\n",
        "plt.legend()\n",
        "plt.show()"
      ],
      "metadata": {
        "colab": {
          "base_uri": "https://localhost:8080/",
          "height": 299
        },
        "id": "EbhpefQRGA_8",
        "outputId": "6d1a830b-593e-46ed-ec5b-1a5b8a34b099"
      },
      "execution_count": 29,
      "outputs": [
        {
          "output_type": "display_data",
          "data": {
            "text/plain": [
              "<Figure size 432x288 with 1 Axes>"
            ],
            "image/png": "[encoded data removed]"
          },
          "metadata": {
            "needs_background": "light"
          }
        }
      ]
    },
    {
      "cell_type": "code",
      "source": [
        "import matplotlib.pyplot as plt\n",
        "plt.xscale(\"log\")\n",
        "plt.yscale(\"log\")\n",
        "plt.plot(n_vec,it_vec3, color=\"r\", label=\"n-k\")\n",
        "plt.xlabel(\"size of matrix\")\n",
        "plt.ylabel(\"iteration\")\n",
        "plt.title(\"Aitken\")\n",
        "plt.legend()\n",
        "plt.show()"
      ],
      "metadata": {
        "colab": {
          "base_uri": "https://localhost:8080/",
          "height": 299
        },
        "id": "1a06o7hZGFWd",
        "outputId": "550a1196-1564-4fb1-8e3b-b613cad36d29"
      },
      "execution_count": 30,
      "outputs": [
        {
          "output_type": "display_data",
          "data": {
            "text/plain": [
              "<Figure size 432x288 with 1 Axes>"
            ],
            "image/png": "[encoded data removed]"
          },
          "metadata": {
            "needs_background": "light"
          }
        }
      ]
    },
    {
      "cell_type": "code",
      "source": [
        "#iteration comparison \n",
        "import matplotlib.pyplot as plt\n",
        "plt.xscale(\"log\")\n",
        "plt.yscale(\"log\")\n",
        "plt.plot(n_vec,it_vec1, color=\"r\", label=\"PW1\")\n",
        "plt.plot(n_vec,it_vec2, color=\"g\", label=\"PW2\")\n",
        "plt.plot(n_vec,it_vec3, color=\"b\", label=\"Aitken\")\n",
        "plt.xlabel(\"size of matrix\")\n",
        "plt.ylabel(\"iteration\")\n",
        "plt.title(\"Comparison\")\n",
        "plt.legend()\n",
        "plt.show()\n"
      ],
      "metadata": {
        "colab": {
          "base_uri": "https://localhost:8080/",
          "height": 299
        },
        "id": "8v0GySi-l1iX",
        "outputId": "d492c604-63a5-4060-cdfc-6420d0958249"
      },
      "execution_count": 31,
      "outputs": [
        {
          "output_type": "display_data",
          "data": {
            "text/plain": [
              "<Figure size 432x288 with 1 Axes>"
            ],
            "image/png": "[encoded data removed]"
          },
          "metadata": {
            "needs_background": "light"
          }
        }
      ]
    },
    {
      "cell_type": "code",
      "source": [
        "#time comparison \n",
        "import matplotlib.pyplot as plt\n",
        "plt.xscale(\"log\")\n",
        "plt.yscale(\"log\")\n",
        "plt.plot(n_vec,time_vec1, color=\"r\", label=\"PW1\")\n",
        "plt.plot(n_vec,time_vec2, color=\"g\", label=\"PW2\")\n",
        "plt.plot(n_vec,time_vec3, color=\"b\", label=\"Aitken\")\n",
        "plt.xlabel(\"size of matrix\")\n",
        "plt.ylabel(\"time\")\n",
        "plt.title(\"Comparison\")\n",
        "plt.legend()\n",
        "plt.show()"
      ],
      "metadata": {
        "colab": {
          "base_uri": "https://localhost:8080/",
          "height": 299
        },
        "id": "U7wEpT6gmUSi",
        "outputId": "5cfbea26-9442-4db3-c4be-acf372e6b559"
      },
      "execution_count": 32,
      "outputs": [
        {
          "output_type": "display_data",
          "data": {
            "text/plain": [
              "<Figure size 432x288 with 1 Axes>"
            ],
            "image/png": "[encoded data removed]"
          },
          "metadata": {
            "needs_background": "light"
          }
        }
      ]
    },
    {
      "cell_type": "markdown",
      "metadata": {
        "id": "5HqG38ECI1uw"
      },
      "source": [
        "### Solving Linear Differential Equations"
      ]
    },
    {
      "cell_type": "markdown",
      "metadata": {
        "id": "vf17yFmMeTDJ"
      },
      "source": [
        "#### Background \n",
        "\n",
        "A paired **linear differential equation** with two dependent variables $x_1$ and $x_2$ has the form \n",
        "\\begin{align*}\n",
        "  x_1' &= a_{11} x_1 + a_{12} x_2 \\\\ \n",
        "  x_2' &= a_{21} x_1 + a_{22} x_2.\n",
        "\\end{align*}\n",
        "We can generalize this to model a **system of $n$ linear first-order differential equations**:\n",
        "$$\n",
        "  x' = A x,\n",
        "$$\n",
        "where $A$ is an $n\\times n$ matrix, and  the vector $x$ has $n$ entries, each of which is a function of $t$.\n",
        "\n",
        "A solution of this system is given by \n",
        "$$\n",
        "  x(t) = e^{\\lambda t} u\n",
        "$$\n",
        "where $\\lambda$ is an eigenvalue of $A$ with corresponding eigenvector $u$.\n",
        "Indeed, taking the derivative of the proposed form of $x$, we have \n",
        "$$\n",
        "  x' = \\lambda e^{\\lambda t} u = e^{\\lambda t} (\\lambda u) = A e^{\\lambda t} u = A x.\n",
        "$$\n",
        "Thus, we can associate a solution of the linear differential equation with each eigenpair of $A$.\n",
        "\n",
        "\n",
        "\n"
      ]
    },
    {
      "cell_type": "markdown",
      "metadata": {
        "id": "3mj7lPfKfyEt"
      },
      "source": [
        "#### Assignment \n",
        "\n",
        "Use the Power Method to find a solution of the system of linear differential equations $x' = Ax$, where \n",
        "$$\n",
        "  A = \\left(\n",
        "    \\begin{matrix} \n",
        "    -2 & 1 & 0 & 1 \\\\ 1 & -2 & 1 & 0 \\\\ 0 & 1 & -2 & 1 \\\\ 1 & 0 & 1 & -2\n",
        "    \\end{matrix}\n",
        "    \\right)\n",
        "$$\n",
        "\n",
        "Use the results of the previous parts to inform your choice of function, initial vector, stopping criteria."
      ]
    },
    {
      "cell_type": "markdown",
      "metadata": {
        "id": "YeK-Xu5Bgoql"
      },
      "source": [
        "#### Solution\n",
        "\n"
      ]
    },
    {
      "cell_type": "code",
      "source": [
        "A=[[-2,1,0,1],[1, -2,1,0],[0,1,-2,1],[1,0,1,-2]]  #defining A\n",
        "x=np.random.rand(4) #initial guess\n",
        "k1,x1,r1,err1=Powermethod2(A,x,maxits,tol)\n",
        "print(k1,x1,\"%1.6f\" %r1[k1-1])\n"
      ],
      "metadata": {
        "colab": {
          "base_uri": "https://localhost:8080/"
        },
        "id": "VyYvVmMgXenx",
        "outputId": "a0879f97-1195-4f9b-d843-0e30ee6f631a"
      },
      "execution_count": 33,
      "outputs": [
        {
          "output_type": "stream",
          "name": "stdout",
          "text": [
            "41 [ 1. -1.  1. -1.] -4.000000\n"
          ]
        }
      ]
    },
    {
      "cell_type": "markdown",
      "source": [
        "We obtain one solution from the given linear system by Powermethod2 with the random initial guess and the stopping criteria tol=1e-12, maxits=5000\n",
        "\n",
        "$$ x(t)=\\begin{pmatrix}-e^{-4t}\\\\e^{-4t}\\\\-e^{-4t}\\\\e^{-4t} \\end{pmatrix}$$"
      ],
      "metadata": {
        "id": "GoQQSYtpIOwq"
      }
    }
  ],
  "metadata": {
    "colab": {
      "collapsed_sections": [
        "LTvUam0KLemU"
      ],
      "provenance": []
    },
    "kernelspec": {
      "display_name": "Python 3",
      "name": "python3"
    },
    "language_info": {
      "name": "python"
    },
    "accelerator": "GPU"
  },
  "nbformat": 4,
  "nbformat_minor": 0
}