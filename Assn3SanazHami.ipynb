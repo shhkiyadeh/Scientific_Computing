{
  "cells": [
    {
      "cell_type": "markdown",
      "metadata": {
        "id": "f1IPBtbUbry_"
      },
      "source": [
        "# **Assignment 3 (Math 537, Fall 2022)**"
      ]
    },
    {
      "cell_type": "markdown",
      "source": [
        "Sanaz Hami Hassan Kiyadeh, shkiyadeh@crimson.ua.edu"
      ],
      "metadata": {
        "id": "5ypMmXnJv-nb"
      }
    },
    {
      "cell_type": "markdown",
      "metadata": {
        "id": "hysyuTLPk22W"
      },
      "source": [
        "# Problem 2"
      ]
    },
    {
      "cell_type": "markdown",
      "metadata": {
        "id": "vVDJR9tkb78N"
      },
      "source": [
        "## Part a\n",
        "\n",
        "Write a function, called **compSimpsons**, to implement the Composite Simpson's Rule:\n",
        "$$\n",
        "\t\\int_a^b f(x) dx \\approx \\frac{h}{3} \\left( f(a) + f(b) + 4 \\sum_{i=1}^{n/2} f \\big( a + (2i-1) h \\big) +\n",
        "\t\t2 \\sum_{i=1}^{(n-2)/2} f \\big(a + 2i h \\big) \\right).\n",
        "$$\n",
        "Your function should take the endpoints of integration $[a,b]$, number of subintervals $n$, and integrand $f$ as arguments.\n",
        "\n",
        "\n"
      ]
    },
    {
      "cell_type": "code",
      "source": [
        "def compSimpson(a, b, n, f):\n",
        "  h=(b-a)/n\n",
        "  endpts = linspace(a, b, n+1)\n",
        "\n",
        "  sum_1=0\n",
        "  for i in range(1, int(n)+1):\n",
        "    if i%2==1:\n",
        "\n",
        "      sum_1 += f(a+i*h)\n",
        "  sum_2=0\n",
        "  for i in range(1, int(n)):\n",
        "    if i%2==0:\n",
        "\n",
        "      sum_2 += f(a+i*h)\n",
        "# Evaluate the Composite Simpson rule.\n",
        "  compsim = (h/3)*(f(a)+f(b) + 4*sum_1 + 2*sum_2)\n",
        "  return compsim\n",
        "\n"
      ],
      "metadata": {
        "id": "r_DQ5o8SZ1Fe"
      },
      "execution_count": 17,
      "outputs": []
    },
    {
      "cell_type": "markdown",
      "metadata": {
        "id": "D0zK_SPneeak"
      },
      "source": [
        "## Part b\n",
        "\n",
        "Use **compSimpsons** to approximate the definite integral\n",
        "$$\n",
        "\t\\int_0^1 f(x) dx = \\int_0^1 \\left(1 + e^{-2x} \\right) dx\n",
        "$$\n",
        "for $n = 2, 4, 6, \\dots,  38, 40$.\n",
        "\n",
        "Make a table reporting the estimate of the integral for each value $n$, the values of $h^4$ and $h^5$, and the absolute error compared to the value of the integral (as computed using the Fundamental Theorem of Calculus).\n",
        "Does the error behave as we should expect it to? "
      ]
    },
    {
      "cell_type": "markdown",
      "source": [
        "The exact value of the integral of $f(x)=1+e^{-2x}$ by the Fundamental Theorem of Calculus is 1.4323 up to the four decimal palces (using calculator)."
      ],
      "metadata": {
        "id": "4a3jFjW7vCNA"
      }
    },
    {
      "cell_type": "code",
      "source": [
        "from numpy import exp, linspace\n",
        "def f(x):\n",
        " return (1 +exp(-2*x))"
      ],
      "metadata": {
        "id": "aqQOQicd9d-I"
      },
      "execution_count": 18,
      "outputs": []
    },
    {
      "cell_type": "markdown",
      "source": [
        "The exact value of the integral of $f(x)=1+e^{-2x}$ by the Fundamental Theorem of Calculus is 1.43233236 up to the eight decimal palces (using calculator)."
      ],
      "metadata": {
        "id": "Fccmawpr9xqX"
      }
    },
    {
      "cell_type": "code",
      "source": [
        "print(\"n \\t |compSimpson  \\t | h^4  \\t | h^5 \\t \\t| Absolute Error\")\n",
        "print(\"+++++++++++++++++++++++++++++++++++++++++++++++++++++++++++++++++++++++++\")\n",
        "for i in range(2,41,2):\n",
        "  print(\" %d \\t | %1.8f \\t | %1.8f \\t | %1.8f \\t| %1.8f\" %(i,compSimpson(0,1,i,f), (1/i)**4, (1/i)**5, compSimpson(0,1,i,f)-1.43233236))\n",
        "  #print(\"%d \\t | %1.1e \\t | %1.8f\" %(i, i,compSimpson(0,1,i,f) ))"
      ],
      "metadata": {
        "colab": {
          "base_uri": "https://localhost:8080/"
        },
        "id": "RRjPriGX9qi4",
        "outputId": "f11cba3b-877c-49f0-a81d-44e16eba6341"
      },
      "execution_count": 19,
      "outputs": [
        {
          "output_type": "stream",
          "name": "stdout",
          "text": [
            "n \t |compSimpson  \t | h^4  \t | h^5 \t \t| Absolute Error\n",
            "+++++++++++++++++++++++++++++++++++++++++++++++++++++++++++++++++++++++++\n",
            " 2 \t | 1.43447551 \t | 0.06250000 \t | 0.03125000 \t| 0.00214315\n",
            " 4 \t | 1.43247812 \t | 0.00390625 \t | 0.00097656 \t| 0.00014576\n",
            " 6 \t | 1.43236162 \t | 0.00077160 \t | 0.00012860 \t| 0.00002926\n",
            " 8 \t | 1.43234167 \t | 0.00024414 \t | 0.00003052 \t| 0.00000931\n",
            " 10 \t | 1.43233618 \t | 0.00010000 \t | 0.00001000 \t| 0.00000382\n",
            " 12 \t | 1.43233421 \t | 0.00004823 \t | 0.00000402 \t| 0.00000185\n",
            " 14 \t | 1.43233336 \t | 0.00002603 \t | 0.00000186 \t| 0.00000100\n",
            " 16 \t | 1.43233294 \t | 0.00001526 \t | 0.00000095 \t| 0.00000058\n",
            " 18 \t | 1.43233272 \t | 0.00000953 \t | 0.00000053 \t| 0.00000036\n",
            " 20 \t | 1.43233260 \t | 0.00000625 \t | 0.00000031 \t| 0.00000024\n",
            " 22 \t | 1.43233252 \t | 0.00000427 \t | 0.00000019 \t| 0.00000016\n",
            " 24 \t | 1.43233247 \t | 0.00000301 \t | 0.00000013 \t| 0.00000011\n",
            " 26 \t | 1.43233244 \t | 0.00000219 \t | 0.00000008 \t| 0.00000008\n",
            " 28 \t | 1.43233242 \t | 0.00000163 \t | 0.00000006 \t| 0.00000006\n",
            " 30 \t | 1.43233241 \t | 0.00000123 \t | 0.00000004 \t| 0.00000005\n",
            " 32 \t | 1.43233240 \t | 0.00000095 \t | 0.00000003 \t| 0.00000004\n",
            " 34 \t | 1.43233239 \t | 0.00000075 \t | 0.00000002 \t| 0.00000003\n",
            " 36 \t | 1.43233238 \t | 0.00000060 \t | 0.00000002 \t| 0.00000002\n",
            " 38 \t | 1.43233238 \t | 0.00000048 \t | 0.00000001 \t| 0.00000002\n",
            " 40 \t | 1.43233237 \t | 0.00000039 \t | 0.00000001 \t| 0.00000001\n"
          ]
        }
      ]
    },
    {
      "cell_type": "markdown",
      "source": [
        "We observe that as n increases, the absolute error decreases and also the absolute error is of order $h^5$."
      ],
      "metadata": {
        "id": "sKWe0h2hvrzr"
      }
    },
    {
      "cell_type": "markdown",
      "metadata": {
        "id": "e6q8t0bhcqGo"
      },
      "source": [
        "# Problem 3\n",
        "\n",
        "The circumference of a circle of radius $1/2$ is equal to $\\pi$.\n",
        "Although we cannot calculate the circumference of the circle exactly, we can approximate it as the \\emph{perimeter} of a polygon through $n+1$ points on the circle $(x_0, y_0), (x_1, y_1), \\dots, (x_n, y_n)$, which is given by \n",
        "$$\n",
        "    P = \\sum_{i=1}^{n+1} \\sqrt{ \\big(x_i  - x_{i-1}\\big)^2 + \\big(y_i - y_{i-1} \\big)^2};\n",
        "$$\n",
        "here, we use the artificial term $(x_{n+1}, y_{n+1}) = (x_0, y_0)$ to add the final line segment from $(x_n, y_n)$ to $(x_0,y_0)$ to the perimeter calculation."
      ]
    },
    {
      "cell_type": "markdown",
      "metadata": {
        "id": "ntFIDgiRdh5N"
      },
      "source": [
        "## Part a\n",
        "\n",
        "Write a function, called **polyPi**, to approximate $\\pi$ using the perimeter of a polygon.\n",
        "* Your function should take $n$ defining the number of points $n+1$ on the circle as sole input argument.\n",
        "* Your function should calculate the $n+1$ points $(x_i, y_i)$ along the circle of radius $1/2$ according to the formulas\n",
        "$$\n",
        "    x_i = \\frac{1}{2} \\cos (2\\pi i /n), \\hspace{0.25in}\n",
        "    y_i = \\frac{1}{2} \\sin(2\\pi i/n), \\hspace{0.25in}\n",
        "    i = 0,1,\\dots, n.\n",
        "$$\n",
        "* After defining the $n+1$ points on the circle, your function should evaluate the length of the perimeter of the polygon and return the resulting approximation of $\\pi$.\n"
      ]
    },
    {
      "cell_type": "code",
      "source": [
        "# Imports.\n",
        "from numpy import sqrt, pi, sin, cos ,abs\n",
        "\n",
        "def polyPi(n):\n",
        "  x=[0.5*cos(2*pi*i/n) for i in range(n+1)]\n",
        "  y=[0.5*sin(2*pi*i/n) for i in range(n+1)]\n",
        "\n",
        "  P=0\n",
        "  for i in range(1,n+1):\n",
        "    P+=sqrt((x[i]-x[i-1])**2+ (y[i]-y[i-1])**2)\n",
        "  return P\n",
        "\n",
        "\n"
      ],
      "metadata": {
        "id": "pOha7r2449t0"
      },
      "execution_count": 20,
      "outputs": []
    },
    {
      "cell_type": "code",
      "source": [
        "polyPi(100)"
      ],
      "metadata": {
        "colab": {
          "base_uri": "https://localhost:8080/",
          "height": 0
        },
        "id": "m6fZkHK4_yiY",
        "outputId": "e9bd663d-76d0-45e2-efc1-4bfb07f6609c"
      },
      "execution_count": 15,
      "outputs": [
        {
          "output_type": "execute_result",
          "data": {
            "text/plain": [
              "3.1410759078128256"
            ]
          },
          "metadata": {},
          "execution_count": 15
        }
      ]
    },
    {
      "cell_type": "markdown",
      "metadata": {
        "id": "vXukUgnSkcOg"
      },
      "source": [
        "## Part b\n",
        "\n",
        "Call your function **polyPi** to calculate the approximation of $\\pi$ for $n = 2^k$, $k = 2, 3, \\dots, 10$.\n",
        "Print the approximations and absolute error, as compared to Numpy's **pi** value, in a table (using \\%1.8f to print the approximate values and errors to 8 digits after the decimal)."
      ]
    },
    {
      "cell_type": "code",
      "source": [
        "print(\"n \\t |approximation  \\t | Absolute Error\")\n",
        "print(\"+++++++++++++++++++++++++++++++++++++++++++++++++++++++++++++++++++++++++\")\n",
        "for i in range(2,11):\n",
        "  n=2**i\n",
        "  print(\" %d \\t | %1.8f \\t \\t | %1.8e\" %(n,polyPi(n),abs(polyPi(n)-pi)))\n"
      ],
      "metadata": {
        "colab": {
          "base_uri": "https://localhost:8080/"
        },
        "id": "yiD0C2p5AsyT",
        "outputId": "6ac4bb3f-1b40-4960-a847-fca1a3760f82"
      },
      "execution_count": 21,
      "outputs": [
        {
          "output_type": "stream",
          "name": "stdout",
          "text": [
            "n \t |approximation  \t | Absolute Error\n",
            "+++++++++++++++++++++++++++++++++++++++++++++++++++++++++++++++++++++++++\n",
            " 4 \t | 2.82842712 \t \t | 3.13165529e-01\n",
            " 8 \t | 3.06146746 \t \t | 8.01251947e-02\n",
            " 16 \t | 3.12144515 \t \t | 2.01475013e-02\n",
            " 32 \t | 3.13654849 \t \t | 5.04416304e-03\n",
            " 64 \t | 3.14033116 \t \t | 1.26149664e-03\n",
            " 128 \t | 3.14127725 \t \t | 3.15402657e-04\n",
            " 256 \t | 3.14151380 \t \t | 7.88524455e-05\n",
            " 512 \t | 3.14157294 \t \t | 1.97132227e-05\n",
            " 1024 \t | 3.14158773 \t \t | 4.92831260e-06\n"
          ]
        }
      ]
    }
  ],
  "metadata": {
    "colab": {
      "collapsed_sections": [],
      "provenance": []
    },
    "kernelspec": {
      "display_name": "Python 3.9.12 ('base')",
      "language": "python",
      "name": "python3"
    },
    "language_info": {
      "codemirror_mode": {
        "name": "ipython",
        "version": 3
      },
      "file_extension": ".py",
      "mimetype": "text/x-python",
      "name": "python",
      "nbconvert_exporter": "python",
      "pygments_lexer": "ipython3",
      "version": "3.9.12"
    },
    "vscode": {
      "interpreter": {
        "hash": "11a4eacee6ffa102e6320921cb3802377ef624adc48c2e3ccd934fa4c5d9951f"
      }
    }
  },
  "nbformat": 4,
  "nbformat_minor": 0
}